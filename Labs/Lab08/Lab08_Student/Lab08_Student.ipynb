{
 "cells": [
  {
   "cell_type": "markdown",
   "metadata": {},
   "source": [
    "<h3 style=\"text-align: center;\">Lab 08: Multiband Raster</h3>\n",
    "\n",
    "- This lab introduces the GIS raster operations using Rasterio and matplotlib libraries, such as read, explore raster data files, and band calculation. \n",
    "\n",
    "- There are four questions in total. Please provide your code answers directly below each question.\n",
    "\n",
    "- Make sure to run all cells so that the answers are stored. Once completed, submit the .ipynb file (**ensuring that all answers are included**) to Canvas by **midnight (11:29 PM) on November 3**.\n",
    "\n",
    "- This lab is worth a total of **65 points** and contributes **6.5%** toward the final grade."
   ]
  },
  {
   "cell_type": "markdown",
   "metadata": {},
   "source": [
    "## 1. Calculating NDWI (20 pts)\n",
    "- Using **landsat.tif** for Question 1. landsat.tif is Landsat 9 data, check the [link](https://landsat.gsfc.nasa.gov/satellites/landsat-9/landsat-9-instruments/landsat-9-spectral-specifications/) here to see the details about band information. \n",
    "\n",
    "[NDWI](https://en.wikipedia.org/wiki/Normalized_difference_water_index) is used to detect water content. \n",
    "\n",
    "NDWI = (Green - NIR)/(Green + NIR)\n",
    "\n",
    "The range for NDWI is -1 to 1\n",
    "\n",
    "This formula is used to enhance open water features which suppressing vegetation, soil, and other land cover. "
   ]
  },
  {
   "cell_type": "code",
   "execution_count": 4,
   "metadata": {},
   "outputs": [],
   "source": [
    "import geopandas as gpd\n",
    "import rasterio\n",
    "import os\n",
    "import rasterio.plot\n",
    "import matplotlib.pyplot as plt\n",
    "import numpy as np\n",
    "import rasterio.mask"
   ]
  },
  {
   "cell_type": "markdown",
   "metadata": {},
   "source": [
    "## 2. Calculate Normalized Difference Built-Up Index (NDBI) (20 pts)\n",
    "\n",
    "- Using **city.tif** for Question 2, city.tif is band 9 also. \n",
    "  \n",
    "The Normalized Difference Built-Up Index (NDBI) is an index designed to highlight built-up or urban areas in satellite imagery. It is particularly effective for identifying urban regions, as built-up surfaces (such as buildings and roads) have a higher reflectance in the Shortwave Infrared (SWIR2) than in the Near Infrared (NIR).\n",
    "\n",
    "NDBI = (SWIR2 - NIR) / (SWIR2 - NIR)\n",
    "\n",
    "NDBI values range from -1 to 1\n",
    "\n"
   ]
  },
  {
   "cell_type": "markdown",
   "metadata": {},
   "source": [
    "## 3. Calculate Normalized Difference Vegetation Index (NDVI) (20 pts)\n",
    "\n",
    "- Using **city.tif** for Question 3. \n",
    "\n",
    "[NDVI](https://en.wikipedia.org/wiki/Normalized_difference_vegetation_index) is calculated as:\n",
    "\n",
    "NDVI = (NIR - Red) / (NIR + Red)\n",
    "\n",
    "The range of NDVI is from -1  to 1\n",
    "\n"
   ]
  },
  {
   "cell_type": "markdown",
   "metadata": {},
   "source": [
    "## 4. Comparison of NDWI , NDBI and NDVI (20 pts)\n",
    "Based on visually interpretation, please compare the different indices—NDVI, NDWI, and NDBI—and explain the types of objects or surfaces that each index is designed to highlight."
   ]
  }
 ],
 "metadata": {
  "kernelspec": {
   "display_name": "gpd",
   "language": "python",
   "name": "python3"
  },
  "language_info": {
   "codemirror_mode": {
    "name": "ipython",
    "version": 3
   },
   "file_extension": ".py",
   "mimetype": "text/x-python",
   "name": "python",
   "nbconvert_exporter": "python",
   "pygments_lexer": "ipython3",
   "version": "3.9.20"
  }
 },
 "nbformat": 4,
 "nbformat_minor": 2
}
