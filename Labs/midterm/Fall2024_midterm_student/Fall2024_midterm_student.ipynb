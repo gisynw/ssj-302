{
 "cells": [
  {
   "cell_type": "markdown",
   "metadata": {},
   "source": [
    "<h3 style=\"text-align: center;\">SSJ 302 & SSJ 30274</h3>\n",
    "<h4>Due Date: October 11, by midnight (11:59 PM)</h4>\n",
    "<h3 style=\"text-align: center;\">Midterm</h3>\n",
    "\n",
    "- This exam should be done completely independetly. \n",
    "\n",
    "- Make sure to run all cells so that the answers are stored. Once completed, export your .ipynb file as either **HTML** or **PDF**, **ensuring that all answers are included**. Submit the HTML or PDF file to Canvas by **midnight (11:59 PM) on October 11**. This is a __strict deadline__, and any late submissions will be penalized except in cases of unexpected emergencies. \n",
    "\n",
    "- To ensure fairness during the exam, the instructor or TA will not provide any hints about the answer but will help you understand the questions.\n",
    "  \n",
    "- There will be no lectures in Week 7 (October 7 - 11), so you can devote your time to this exam. The instructor will still will be in the classroom during lecture time to answers questions you may have about the midterm.\n",
    "\n",
    "- This lab is worth a total of **150 points** and contributes **15%** toward the final grade.\n",
    "\n",
    "\n",
    "Good luck with the exam! 😄"
   ]
  },
  {
   "cell_type": "code",
   "execution_count": 12,
   "metadata": {},
   "outputs": [],
   "source": [
    "import pandas as pd\n",
    "import seaborn as sns\n",
    "import os\n",
    "from pathlib import Path\n",
    "import plotly.express as px\n",
    "import plotly.graph_objects as go"
   ]
  },
  {
   "cell_type": "code",
   "execution_count": 3,
   "metadata": {},
   "outputs": [
    {
     "data": {
      "text/plain": [
       "'f:\\\\Clark_Universiy\\\\Clark_Teaching\\\\Git_Repo\\\\ssj-302\\\\docs\\\\Labs\\\\midterm'"
      ]
     },
     "execution_count": 3,
     "metadata": {},
     "output_type": "execute_result"
    }
   ],
   "source": [
    "notebook_path = Path(os.path.abspath(\"__file__\")).parent\n",
    "os.chdir(notebook_path)\n",
    "os.getcwd()"
   ]
  },
  {
   "cell_type": "markdown",
   "metadata": {},
   "source": [
    "## Q1. List (10 pts)\n",
    "- 1.1 : Create a list called cities contianing the following city names: Worcester, Boston, Dallas, Shrewsburry. Add 'Millbury' to the list (5 pts)"
   ]
  },
  {
   "cell_type": "markdown",
   "metadata": {},
   "source": [
    "- 1.2 Access the variable with index 2 in the cities list. (5 pts)"
   ]
  },
  {
   "cell_type": "markdown",
   "metadata": {},
   "source": [
    "## Q2. Dictionaries (30 pts)\n",
    "- 2.1 Create a dictionary(named as 'city_pop') where the city names are the keys and the populations are the values. Use the following data: 'Toronto': 280,000, 'New York': 840,000, 'Mexico City': 900,000. (10 pts)\n"
   ]
  },
  {
   "cell_type": "markdown",
   "metadata": {},
   "source": [
    "- 2.2 Retrieve the population of New York (10 pts)"
   ]
  },
  {
   "cell_type": "markdown",
   "metadata": {},
   "source": [
    "- 2.3 Using 'for...if' to Print the names of city with a population larger than 800,000 (10 pts)"
   ]
  },
  {
   "cell_type": "markdown",
   "metadata": {},
   "source": [
    "## Q3. Functions (25 pts)\n",
    "- 3.1 Write a Python function that takes the name of a river as input and returns a classification based on the river's length. Use the following river_data and conditions: (20 pts)\n",
    "    - length > 6000, return 'very long river'\n",
    "    - 3000 <= length <= 6000, return 'Long river' \n",
    "    - other values, return 'short river'\n",
    "    - if river name does not exist in river_data, return 'River not found' \n",
    "\n",
    "river_data = {\n",
    "    'Amazon': 6992,\n",
    "    'Nile': 6650,\n",
    "    'Yangtze': 6300,\n",
    "    'Mississippi': 3730,\n",
    "    'Thames': 346\n",
    "}"
   ]
  },
  {
   "cell_type": "markdown",
   "metadata": {},
   "source": [
    "- 3.2 For the validation, please use 'Amazon', 'Thames', 'Danube' as example to run your function  (5 pts)"
   ]
  },
  {
   "cell_type": "markdown",
   "metadata": {},
   "source": [
    "## Q4: Pandas (50 pts)\n",
    "Please use **Open_Space.csv for Q4: Pandas**.\n",
    "Open_Space.csv store the infomration about conservation and recreation in terest in Boston, Massachusetts, USA. "
   ]
  },
  {
   "cell_type": "markdown",
   "metadata": {},
   "source": [
    "- 4.1 Given the dataframe `Open_Space.csv`, display the first 5 rows of the data (10 pts)"
   ]
  },
  {
   "cell_type": "markdown",
   "metadata": {},
   "source": [
    "- 4.2 Write code to filter and display all parks that are owned by City of Boston ([OWNERSHIP] column) that have more than 3 acres ([ACRES] column), print how many parks meet this condition (10 pts)"
   ]
  },
  {
   "cell_type": "markdown",
   "metadata": {},
   "source": [
    "- 4.3 Calculate and display the total acreage ([ACRES] column) of all parks in the DataFrame `Open_Space.csv`. (10 pts)"
   ]
  },
  {
   "cell_type": "markdown",
   "metadata": {},
   "source": [
    "- 4.4 Group the parks by district ([DISTRICT] column) and calculate the total number of acres ([ACRES] column) for each district. (10 pts)"
   ]
  },
  {
   "cell_type": "markdown",
   "metadata": {},
   "source": [
    "- 4.5 Add a new column called `hectares` that converts the park size from acres ([ACRES] column) to hectares. (1 acre = 0.404686 hectares) (10 pts)"
   ]
  },
  {
   "cell_type": "markdown",
   "metadata": {},
   "source": [
    "## Q5. Interactive Mapping (15 points)\n",
    "The data for Q5 is **colleges.csv file**."
   ]
  },
  {
   "cell_type": "markdown",
   "metadata": {},
   "source": [
    "- 5.1 Use a chart (you can use any chart from matplotlib, seaborn or plotly packages) to show the number of colleges ([COLLEGE] column) in each type ([TYPE] column)"
   ]
  },
  {
   "cell_type": "markdown",
   "metadata": {},
   "source": [
    "## Q6. Spatial Map (20 Points)\n",
    "The data for Q6 is **colleges.csv file**.\n",
    "- 6.1 Create a spatial map to show the college on maps\n",
    "  - Add a popup windown to show the information (College name from [COLLEGE] column and City from [CITY] column) for each college. "
   ]
  }
 ],
 "metadata": {
  "kernelspec": {
   "display_name": "base",
   "language": "python",
   "name": "python3"
  },
  "language_info": {
   "codemirror_mode": {
    "name": "ipython",
    "version": 3
   },
   "file_extension": ".py",
   "mimetype": "text/x-python",
   "name": "python",
   "nbconvert_exporter": "python",
   "pygments_lexer": "ipython3",
   "version": "3.7.6"
  }
 },
 "nbformat": 4,
 "nbformat_minor": 2
}
