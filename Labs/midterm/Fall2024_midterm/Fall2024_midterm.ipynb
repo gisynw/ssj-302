{
 "cells": [
  {
   "cell_type": "markdown",
   "metadata": {},
   "source": [
    "<h3 style=\"text-align: center;\">SSJ 302 & SSJ 30274</h3>\n",
    "<h4>Due Date: October 11, by midnight (11:59 PM)</h4>\n",
    "<h3 style=\"text-align: center;\">Midterm</h3>\n",
    "\n",
    "- This exam should be done completely independetly. \n",
    "\n",
    "- Make sure to run all cells so that the answers are stored. Once completed, export your .ipynb file as either **HTML** or **PDF**, **ensuring that all answers are included**. Submit the HTML or PDF file to Canvas by **midnight (11:59 PM) on October 11**. This is a __strict deadline__, and any late submissions will be penalized except in cases of unexpected emergencies. \n",
    "\n",
    "- To ensure fairness during the exam, the instructor or TA will not provide any hints about the answer but will help you understand the questions.\n",
    "  \n",
    "- There will be no lectures in Week 7 (October 7 - 11), so you can devote your time to this exam. The instructor will still will be in the classroom during lecture time to answers questions you may have about the midterm.\n",
    "\n",
    "\n",
    "Good luck with the exam! 😄"
   ]
  },
  {
   "cell_type": "code",
   "execution_count": 12,
   "metadata": {},
   "outputs": [],
   "source": [
    "import pandas as pd\n",
    "import seaborn as sns\n",
    "import os\n",
    "from pathlib import Path\n",
    "import plotly.express as px"
   ]
  },
  {
   "cell_type": "code",
   "execution_count": 3,
   "metadata": {},
   "outputs": [
    {
     "data": {
      "text/plain": [
       "'f:\\\\Clark_Universiy\\\\Clark_Teaching\\\\Git_Repo\\\\ssj-302\\\\docs\\\\Labs\\\\midterm'"
      ]
     },
     "execution_count": 3,
     "metadata": {},
     "output_type": "execute_result"
    }
   ],
   "source": [
    "notebook_path = Path(os.path.abspath(\"__file__\")).parent\n",
    "os.chdir(notebook_path)\n",
    "os.getcwd()"
   ]
  },
  {
   "cell_type": "markdown",
   "metadata": {},
   "source": [
    "## Q1. List (10 pts)\n",
    "- 1.1 : Create a list called cities contianing the following city names: Worcester, Boston, Dallas, Shrewsburry. Add 'Millbury' to the list (5 pts)"
   ]
  },
  {
   "cell_type": "code",
   "execution_count": 15,
   "metadata": {},
   "outputs": [
    {
     "data": {
      "text/plain": [
       "['Worcester', 'Boston', 'Dallas', 'Shresburry', 'Millbury']"
      ]
     },
     "execution_count": 15,
     "metadata": {},
     "output_type": "execute_result"
    }
   ],
   "source": [
    "cities = ['Worcester', 'Boston', 'Dallas', 'Shresburry']\n",
    "cities.append('Millbury')\n",
    "cities"
   ]
  },
  {
   "cell_type": "markdown",
   "metadata": {},
   "source": [
    "- 1.2 Access the variable with index 2 in the cities list. (5 pts)"
   ]
  },
  {
   "cell_type": "code",
   "execution_count": 16,
   "metadata": {},
   "outputs": [
    {
     "data": {
      "text/plain": [
       "'Dallas'"
      ]
     },
     "execution_count": 16,
     "metadata": {},
     "output_type": "execute_result"
    }
   ],
   "source": [
    "cities[2]"
   ]
  },
  {
   "cell_type": "markdown",
   "metadata": {},
   "source": [
    "## Q2. Dictionaries (30 pts)\n",
    "- 2.1 Create a dictionary(named as 'city_pop') where the city names are the keys and the populations are the values. Use the following data: 'Toronto': 280,000, 'New York': 840,000, 'Mexico City': 900,000. (10 pts)\n"
   ]
  },
  {
   "cell_type": "code",
   "execution_count": 18,
   "metadata": {},
   "outputs": [],
   "source": [
    "city_pop = {\n",
    "    'Toronto': 280000,\n",
    "    'New York': 840000,\n",
    "    'Mexico City': 900000\n",
    "}"
   ]
  },
  {
   "cell_type": "markdown",
   "metadata": {},
   "source": [
    "- 2.2 Retrieve the population of New York (10 pts)"
   ]
  },
  {
   "cell_type": "code",
   "execution_count": 19,
   "metadata": {},
   "outputs": [
    {
     "data": {
      "text/plain": [
       "840000"
      ]
     },
     "execution_count": 19,
     "metadata": {},
     "output_type": "execute_result"
    }
   ],
   "source": [
    "city_pop['New York']"
   ]
  },
  {
   "cell_type": "markdown",
   "metadata": {},
   "source": [
    "- 2.3 Using 'for...if' to Print the names of city with a population larger than 800,000 (10 pts)"
   ]
  },
  {
   "cell_type": "code",
   "execution_count": 20,
   "metadata": {},
   "outputs": [
    {
     "name": "stdout",
     "output_type": "stream",
     "text": [
      "New York\n",
      "Mexico City\n"
     ]
    }
   ],
   "source": [
    "for city, population in city_pop.items():\n",
    "    if population > 800000:\n",
    "        print(city)"
   ]
  },
  {
   "cell_type": "markdown",
   "metadata": {},
   "source": [
    "## Q3. Functions (25 pts)\n",
    "- 3.1 Write a Python function that takes the name of a river as input and returns a classification based on the river's length. Use the following river data and conditions: (20 pts)\n",
    "    - length > 6000, return 'very long river'\n",
    "    - 3000 <= length <= 6000, return 'Long river' \n",
    "    - other values, return 'short river'\n",
    "    - if river name does not exist in dict, return 'River not found' \n",
    "\n",
    "river_data = {\n",
    "    'Amazon': 6992,\n",
    "    'Nile': 6650,\n",
    "    'Yangtze': 6300,\n",
    "    'Mississippi': 3730,\n",
    "    'Thames': 346\n",
    "}"
   ]
  },
  {
   "cell_type": "code",
   "execution_count": 4,
   "metadata": {},
   "outputs": [
    {
     "name": "stdout",
     "output_type": "stream",
     "text": [
      "Very long river\n",
      "Short river\n",
      "River not found\n"
     ]
    }
   ],
   "source": [
    "river_data = {\n",
    "    'Amazon': 6992,\n",
    "    'Nile': 6650,\n",
    "    'Yangtze': 6300,\n",
    "    'Mississippi': 3730,\n",
    "    'Thames': 346\n",
    "}\n",
    "\n",
    "def classify_river(river_name):\n",
    "    if river_name in river_data:\n",
    "        length = river_data[river_name]\n",
    "        if length > 6000:\n",
    "            return 'Very long river'\n",
    "        elif 3000 <= length <= 6000:\n",
    "            return 'Long river'\n",
    "        else:\n",
    "            return 'Short river'\n",
    "    else:\n",
    "        return 'River not found'\n"
   ]
  },
  {
   "cell_type": "markdown",
   "metadata": {},
   "source": [
    "- 3.2 For the validation, please use 'Amazon', 'Thames', 'Danube' as example to run your function  (5 pts)"
   ]
  },
  {
   "cell_type": "code",
   "execution_count": null,
   "metadata": {},
   "outputs": [],
   "source": [
    "# Examples\n",
    "print(classify_river('Amazon'))   # Very long river\n",
    "print(classify_river('Thames'))   # Short river\n",
    "print(classify_river('Danube'))   # River not found"
   ]
  },
  {
   "cell_type": "markdown",
   "metadata": {},
   "source": [
    "## Q4: Pandas (50 pts)\n",
    "Please use **Open_Space.csv for Q4: Pandas**.\n",
    "Open_Space.csv store the infomration about conservation and recreation in terest in Boston, Massachusetts, USA. "
   ]
  },
  {
   "cell_type": "markdown",
   "metadata": {},
   "source": [
    "- 4.1 Given the dataframe `Open_Space.csv`, display the first 5 rows of the data (10 pts)"
   ]
  },
  {
   "cell_type": "code",
   "execution_count": 5,
   "metadata": {},
   "outputs": [
    {
     "data": {
      "text/plain": [
       "'f:\\\\Clark_Universiy\\\\Clark_Teaching\\\\Git_Repo\\\\ssj-302\\\\docs\\\\Labs\\\\midterm'"
      ]
     },
     "execution_count": 5,
     "metadata": {},
     "output_type": "execute_result"
    }
   ],
   "source": [
    "import pandas as pd\n",
    "from pathlib import Path\n",
    "import os\n",
    "\n",
    "notebook_path = Path(os.path.abspath(\"__file__\")).parent\n",
    "os.chdir(notebook_path)\n",
    "os.getcwd()"
   ]
  },
  {
   "cell_type": "code",
   "execution_count": 6,
   "metadata": {},
   "outputs": [
    {
     "name": "stdout",
     "output_type": "stream",
     "text": [
      "   OBJECTID                    SITE_NAME       OWNERSHIP    PROTECTION  \\\n",
      "0         1                  Wilson Park  City of Boston           NaN   \n",
      "1         2  James H. Roberts Playground  City of Boston           A97   \n",
      "2         3             Smith Playground  City of Boston      A97/LWCF   \n",
      "3         4                  Fern Square  City of Boston           A97   \n",
      "4         5            Ringer Playground  City of Boston  A97/LWCF/USH   \n",
      "\n",
      "   TYPECODE          DISTRICT      ACRES             ADDRESS  \\\n",
      "0         1  Allston-Brighton   0.097184      10 Wilson Park   \n",
      "1         3  Allston-Brighton   1.004136     120 Hooker Str.   \n",
      "2         3  Allston-Brighton  15.025247  235 Western Avenue   \n",
      "3         1  Allston-Brighton   0.044509       1 Fern Street   \n",
      "4         3  Allston-Brighton  10.263093   85 Allston Street   \n",
      "\n",
      "                ZonAgg                              TypeLong  ... AgncyJuris  \\\n",
      "0  Open Space District               Malls, Squares & Plazas  ...        PWD   \n",
      "1  Open Space District  Parks, Playgrounds & Athletic Fields  ...       BPRD   \n",
      "2  Open Space District  Parks, Playgrounds & Athletic Fields  ...       BPRD   \n",
      "3  Open Space District               Malls, Squares & Plazas  ...       BPRD   \n",
      "4  Open Space District  Parks, Playgrounds & Athletic Fields  ...       BPRD   \n",
      "\n",
      "  PARK_ID                     REGION OS_ID F_100ftRule       ZipCode  \\\n",
      "0     NaN  PARK_Maintenance_Region 4  2000         YES         02135   \n",
      "1   156.0  PARK_Maintenance_Region 4   156         YES         02134   \n",
      "2   284.0  PARK_Maintenance_Region 4   284         YES         02134   \n",
      "3   115.0  PARK_Maintenance_Region 4   115         YES         02134   \n",
      "4   259.0  PARK_Maintenance_Region 4   259         YES  02134, 02135   \n",
      "\n",
      "   ParcelNumber YearAcquired    ShapeSTArea ShapeSTLength  \n",
      "0    2102093500            0    4233.047454    256.730008  \n",
      "1    2200030000            0   43737.350616    852.844112  \n",
      "2    2200542000         1894  654457.503289   3624.893621  \n",
      "3    2201194000            0    1938.694719    207.320531  \n",
      "4    2101101000         1916  447031.286329   3765.829546  \n",
      "\n",
      "[5 rows x 25 columns]\n"
     ]
    }
   ],
   "source": [
    "openspace = pd.read_csv('Open_Space.csv')\n",
    "print(openspace.head(5))"
   ]
  },
  {
   "cell_type": "markdown",
   "metadata": {},
   "source": [
    "- 4.2 Write code to filter and display all parks that are owned by City of Boston ([OWNERSHIP] column) that have more than 3 acres ([ACRES] column), print how many parks meet this condition (10 pts)"
   ]
  },
  {
   "cell_type": "code",
   "execution_count": 9,
   "metadata": {},
   "outputs": [
    {
     "name": "stdout",
     "output_type": "stream",
     "text": [
      "95\n"
     ]
    }
   ],
   "source": [
    "### Answer 4.2\n",
    "sub_space = openspace.query('OWNERSHIP == \"City of Boston\" & ACRES > 3')\n",
    "print(len(sub_space.index))\n"
   ]
  },
  {
   "cell_type": "markdown",
   "metadata": {},
   "source": [
    "- 4.3 Calculate and display the total acreage ([ACRES] column) of all parks in the DataFrame `Open_Space.csv`. (10 pts)"
   ]
  },
  {
   "cell_type": "code",
   "execution_count": 11,
   "metadata": {},
   "outputs": [
    {
     "name": "stdout",
     "output_type": "stream",
     "text": [
      "5807.8456675\n"
     ]
    }
   ],
   "source": [
    "total_acres = openspace['ACRES'].sum()\n",
    "print(total_acres)"
   ]
  },
  {
   "cell_type": "markdown",
   "metadata": {},
   "source": [
    "- 4.4 Group the parks by district ([DISTRICT] column) and calculate the total number of acres ([ACRES] column) for each district. (10 pts)"
   ]
  },
  {
   "cell_type": "code",
   "execution_count": 12,
   "metadata": {},
   "outputs": [
    {
     "name": "stdout",
     "output_type": "stream",
     "text": [
      "DISTRICT\n",
      "Allston-Brighton        247.553096\n",
      "Back Bay/Beacon Hill     84.579093\n",
      "Central Boston           56.842081\n",
      "Charlestown              65.894338\n",
      "Dorchester              406.244755\n",
      "East Boston             255.831831\n",
      "Fenway/Longwood         118.719114\n",
      "Harbor Islands          407.924446\n",
      "Hyde Park               751.927442\n",
      "Jamaica Plain           744.072693\n",
      "Mattapan                235.100515\n",
      "Mission Hill             27.204386\n",
      "Multi-District          411.411472\n",
      "Roslindale              209.741797\n",
      "Roxbury                 568.753876\n",
      "South Boston            208.251699\n",
      "South End                19.979065\n",
      "West Roxbury            987.813970\n",
      "Name: ACRES, dtype: float64\n"
     ]
    }
   ],
   "source": [
    "acres_avg = openspace.groupby('DISTRICT')['ACRES'].sum()\n",
    "print(acres_avg)"
   ]
  },
  {
   "cell_type": "markdown",
   "metadata": {},
   "source": [
    "- 4.5 Add a new column called `hectares` that converts the park size from acres ([ACRES] column) to hectares. (1 acre = 0.404686 hectares) (10 pts)"
   ]
  },
  {
   "cell_type": "code",
   "execution_count": 13,
   "metadata": {},
   "outputs": [
    {
     "name": "stdout",
     "output_type": "stream",
     "text": [
      "0       0.039329\n",
      "1       0.406360\n",
      "2       6.080507\n",
      "3       0.018012\n",
      "4       4.153330\n",
      "         ...    \n",
      "533     0.031816\n",
      "534    49.193340\n",
      "535    25.067138\n",
      "536     0.047309\n",
      "537     0.447741\n",
      "Name: hectares, Length: 538, dtype: float64\n"
     ]
    }
   ],
   "source": [
    "openspace['hectares'] = openspace['ACRES'] * 0.404686\n",
    "print(openspace['hectares'])"
   ]
  },
  {
   "cell_type": "markdown",
   "metadata": {},
   "source": [
    "## Q5. Interactive Mapping (15 points)\n",
    "The data for Q5 is **colleges.csv file**."
   ]
  },
  {
   "cell_type": "markdown",
   "metadata": {},
   "source": [
    "- 5.1 Use a chart (you can use any chart from matplotlib, seaborn or plotly packages) to show the number of colleges ([COLLEGE] column) in each type ([TYPE] column)"
   ]
  },
  {
   "cell_type": "code",
   "execution_count": 17,
   "metadata": {},
   "outputs": [
    {
     "data": {
      "text/html": [
       "<div>\n",
       "<style scoped>\n",
       "    .dataframe tbody tr th:only-of-type {\n",
       "        vertical-align: middle;\n",
       "    }\n",
       "\n",
       "    .dataframe tbody tr th {\n",
       "        vertical-align: top;\n",
       "    }\n",
       "\n",
       "    .dataframe thead th {\n",
       "        text-align: right;\n",
       "    }\n",
       "</style>\n",
       "<table border=\"1\" class=\"dataframe\">\n",
       "  <thead>\n",
       "    <tr style=\"text-align: right;\">\n",
       "      <th></th>\n",
       "      <th>OID_</th>\n",
       "      <th>COLLEGE</th>\n",
       "      <th>CAMPUS</th>\n",
       "      <th>ADDRESS</th>\n",
       "      <th>CITY</th>\n",
       "      <th>ZIPCODE</th>\n",
       "      <th>PLUS_FOUR</th>\n",
       "      <th>GEOG_TOWN</th>\n",
       "      <th>MAIN_TEL</th>\n",
       "      <th>NCES_ID</th>\n",
       "      <th>TYPE</th>\n",
       "      <th>NCES_TYPE</th>\n",
       "      <th>CATEGORY</th>\n",
       "      <th>DEGREEOFFR</th>\n",
       "      <th>AWARDSOFFR</th>\n",
       "      <th>LARGEPROG</th>\n",
       "      <th>CAMPUSSETT</th>\n",
       "      <th>CAMPUSHOUS</th>\n",
       "      <th>lon</th>\n",
       "      <th>lat</th>\n",
       "    </tr>\n",
       "  </thead>\n",
       "  <tbody>\n",
       "    <tr>\n",
       "      <th>0</th>\n",
       "      <td>1</td>\n",
       "      <td>Cape Cod Electrical School</td>\n",
       "      <td></td>\n",
       "      <td>9 New Venture Drive</td>\n",
       "      <td>South Dennis</td>\n",
       "      <td>2660</td>\n",
       "      <td></td>\n",
       "      <td>DENNIS</td>\n",
       "      <td>(508) 760-1983</td>\n",
       "      <td></td>\n",
       "      <td>PRI</td>\n",
       "      <td>&lt; 2-year, Private for-profit</td>\n",
       "      <td>Private Occupational Program</td>\n",
       "      <td>C</td>\n",
       "      <td></td>\n",
       "      <td>Electrician</td>\n",
       "      <td>Town: Fringe</td>\n",
       "      <td>No</td>\n",
       "      <td>-70.141716</td>\n",
       "      <td>41.689545</td>\n",
       "    </tr>\n",
       "    <tr>\n",
       "      <th>1</th>\n",
       "      <td>2</td>\n",
       "      <td>Cape Cod Community College</td>\n",
       "      <td>Main Campus</td>\n",
       "      <td>2240 Iyannough Road</td>\n",
       "      <td>West Barnstable</td>\n",
       "      <td>2668</td>\n",
       "      <td>1599</td>\n",
       "      <td>BARNSTABLE</td>\n",
       "      <td>(508) 362-2131</td>\n",
       "      <td>165194</td>\n",
       "      <td>PUB</td>\n",
       "      <td>2-year, Public</td>\n",
       "      <td>Community College</td>\n",
       "      <td>C, A</td>\n",
       "      <td>Less than one year certificate;Associate's degree</td>\n",
       "      <td></td>\n",
       "      <td>City: Small</td>\n",
       "      <td>No</td>\n",
       "      <td>-70.336723</td>\n",
       "      <td>41.692272</td>\n",
       "    </tr>\n",
       "    <tr>\n",
       "      <th>2</th>\n",
       "      <td>3</td>\n",
       "      <td>Rob Roy Academy</td>\n",
       "      <td>Fall River</td>\n",
       "      <td>260 S Main Street</td>\n",
       "      <td>Fall River</td>\n",
       "      <td>2720</td>\n",
       "      <td></td>\n",
       "      <td>FALL RIVER</td>\n",
       "      <td>(508) 672-4751</td>\n",
       "      <td>165750</td>\n",
       "      <td>PRI</td>\n",
       "      <td>&lt; 2-year, Private for-profit</td>\n",
       "      <td>Private Vocational School</td>\n",
       "      <td>C</td>\n",
       "      <td>Less than one year certificate;One but less th...</td>\n",
       "      <td>Cosmetology/Cosmetologist, General</td>\n",
       "      <td>Suburb: Large</td>\n",
       "      <td>No</td>\n",
       "      <td>-71.157730</td>\n",
       "      <td>41.698872</td>\n",
       "    </tr>\n",
       "    <tr>\n",
       "      <th>3</th>\n",
       "      <td>4</td>\n",
       "      <td>Diman Regional Technical Institute Division of...</td>\n",
       "      <td></td>\n",
       "      <td>1082 Davol Street</td>\n",
       "      <td>Fall River</td>\n",
       "      <td>2720</td>\n",
       "      <td></td>\n",
       "      <td>FALL RIVER</td>\n",
       "      <td>(508) 678-2891</td>\n",
       "      <td>165608</td>\n",
       "      <td>PUB</td>\n",
       "      <td>&lt; 2-year, Public</td>\n",
       "      <td>Adult Education</td>\n",
       "      <td>C</td>\n",
       "      <td>One but less than two years certificate</td>\n",
       "      <td>Licensed Practical/Vocational Nurse Training</td>\n",
       "      <td>Suburb: Large</td>\n",
       "      <td>No</td>\n",
       "      <td>-71.155045</td>\n",
       "      <td>41.718437</td>\n",
       "    </tr>\n",
       "    <tr>\n",
       "      <th>4</th>\n",
       "      <td>5</td>\n",
       "      <td>Bristol Community College</td>\n",
       "      <td>Fall River</td>\n",
       "      <td>777 Elsbree Street</td>\n",
       "      <td>Fall River</td>\n",
       "      <td>2720</td>\n",
       "      <td></td>\n",
       "      <td>FALL RIVER</td>\n",
       "      <td>(508) 678-2811</td>\n",
       "      <td>165033</td>\n",
       "      <td>PUB</td>\n",
       "      <td>2-year, Public</td>\n",
       "      <td>Community College</td>\n",
       "      <td>C, A</td>\n",
       "      <td>Less than one year certificate;One but less th...</td>\n",
       "      <td></td>\n",
       "      <td>Suburb: Large</td>\n",
       "      <td>No</td>\n",
       "      <td>-71.119949</td>\n",
       "      <td>41.721363</td>\n",
       "    </tr>\n",
       "  </tbody>\n",
       "</table>\n",
       "</div>"
      ],
      "text/plain": [
       "   OID_                                            COLLEGE       CAMPUS  \\\n",
       "0     1                         Cape Cod Electrical School                \n",
       "1     2                         Cape Cod Community College  Main Campus   \n",
       "2     3                                    Rob Roy Academy   Fall River   \n",
       "3     4  Diman Regional Technical Institute Division of...                \n",
       "4     5                          Bristol Community College   Fall River   \n",
       "\n",
       "               ADDRESS             CITY  ZIPCODE PLUS_FOUR   GEOG_TOWN  \\\n",
       "0  9 New Venture Drive     South Dennis     2660                DENNIS   \n",
       "1  2240 Iyannough Road  West Barnstable     2668      1599  BARNSTABLE   \n",
       "2    260 S Main Street       Fall River     2720            FALL RIVER   \n",
       "3    1082 Davol Street       Fall River     2720            FALL RIVER   \n",
       "4   777 Elsbree Street       Fall River     2720            FALL RIVER   \n",
       "\n",
       "         MAIN_TEL NCES_ID TYPE                     NCES_TYPE  \\\n",
       "0  (508) 760-1983          PRI  < 2-year, Private for-profit   \n",
       "1  (508) 362-2131  165194  PUB                2-year, Public   \n",
       "2  (508) 672-4751  165750  PRI  < 2-year, Private for-profit   \n",
       "3  (508) 678-2891  165608  PUB              < 2-year, Public   \n",
       "4  (508) 678-2811  165033  PUB                2-year, Public   \n",
       "\n",
       "                       CATEGORY DEGREEOFFR  \\\n",
       "0  Private Occupational Program          C   \n",
       "1             Community College       C, A   \n",
       "2     Private Vocational School          C   \n",
       "3               Adult Education          C   \n",
       "4             Community College       C, A   \n",
       "\n",
       "                                          AWARDSOFFR  \\\n",
       "0                                                      \n",
       "1  Less than one year certificate;Associate's degree   \n",
       "2  Less than one year certificate;One but less th...   \n",
       "3            One but less than two years certificate   \n",
       "4  Less than one year certificate;One but less th...   \n",
       "\n",
       "                                      LARGEPROG     CAMPUSSETT CAMPUSHOUS  \\\n",
       "0                                   Electrician   Town: Fringe         No   \n",
       "1                                                  City: Small         No   \n",
       "2            Cosmetology/Cosmetologist, General  Suburb: Large         No   \n",
       "3  Licensed Practical/Vocational Nurse Training  Suburb: Large         No   \n",
       "4                                                Suburb: Large         No   \n",
       "\n",
       "         lon        lat  \n",
       "0 -70.141716  41.689545  \n",
       "1 -70.336723  41.692272  \n",
       "2 -71.157730  41.698872  \n",
       "3 -71.155045  41.718437  \n",
       "4 -71.119949  41.721363  "
      ]
     },
     "execution_count": 17,
     "metadata": {},
     "output_type": "execute_result"
    }
   ],
   "source": [
    "colleges = pd.read_csv('colleges03.csv')\n",
    "colleges.head(5)"
   ]
  },
  {
   "cell_type": "code",
   "execution_count": 10,
   "metadata": {},
   "outputs": [
    {
     "data": {
      "text/plain": [
       "PRI    153\n",
       "PUB     63\n",
       "Name: TYPE, dtype: int64"
      ]
     },
     "execution_count": 10,
     "metadata": {},
     "output_type": "execute_result"
    }
   ],
   "source": [
    "rst = colleges.TYPE.value_counts()\n",
    "rst"
   ]
  },
  {
   "cell_type": "code",
   "execution_count": 15,
   "metadata": {},
   "outputs": [
    {
     "data": {
      "application/vnd.plotly.v1+json": {
       "config": {
        "plotlyServerURL": "https://plot.ly"
       },
       "data": [
        {
         "alignmentgroup": "True",
         "hovertemplate": "Type=%{x}<br>Count=%{y}<extra></extra>",
         "legendgroup": "",
         "marker": {
          "color": "#636efa",
          "pattern": {
           "shape": ""
          }
         },
         "name": "",
         "offsetgroup": "",
         "orientation": "v",
         "showlegend": false,
         "textposition": "auto",
         "type": "bar",
         "x": [
          "PRI",
          "PUB"
         ],
         "xaxis": "x",
         "y": [
          153,
          63
         ],
         "yaxis": "y"
        }
       ],
       "layout": {
        "barmode": "relative",
        "legend": {
         "tracegroupgap": 0
        },
        "margin": {
         "t": 60
        },
        "template": {
         "data": {
          "bar": [
           {
            "error_x": {
             "color": "#2a3f5f"
            },
            "error_y": {
             "color": "#2a3f5f"
            },
            "marker": {
             "line": {
              "color": "#E5ECF6",
              "width": 0.5
             },
             "pattern": {
              "fillmode": "overlay",
              "size": 10,
              "solidity": 0.2
             }
            },
            "type": "bar"
           }
          ],
          "barpolar": [
           {
            "marker": {
             "line": {
              "color": "#E5ECF6",
              "width": 0.5
             },
             "pattern": {
              "fillmode": "overlay",
              "size": 10,
              "solidity": 0.2
             }
            },
            "type": "barpolar"
           }
          ],
          "carpet": [
           {
            "aaxis": {
             "endlinecolor": "#2a3f5f",
             "gridcolor": "white",
             "linecolor": "white",
             "minorgridcolor": "white",
             "startlinecolor": "#2a3f5f"
            },
            "baxis": {
             "endlinecolor": "#2a3f5f",
             "gridcolor": "white",
             "linecolor": "white",
             "minorgridcolor": "white",
             "startlinecolor": "#2a3f5f"
            },
            "type": "carpet"
           }
          ],
          "choropleth": [
           {
            "colorbar": {
             "outlinewidth": 0,
             "ticks": ""
            },
            "type": "choropleth"
           }
          ],
          "contour": [
           {
            "colorbar": {
             "outlinewidth": 0,
             "ticks": ""
            },
            "colorscale": [
             [
              0,
              "#0d0887"
             ],
             [
              0.1111111111111111,
              "#46039f"
             ],
             [
              0.2222222222222222,
              "#7201a8"
             ],
             [
              0.3333333333333333,
              "#9c179e"
             ],
             [
              0.4444444444444444,
              "#bd3786"
             ],
             [
              0.5555555555555556,
              "#d8576b"
             ],
             [
              0.6666666666666666,
              "#ed7953"
             ],
             [
              0.7777777777777778,
              "#fb9f3a"
             ],
             [
              0.8888888888888888,
              "#fdca26"
             ],
             [
              1,
              "#f0f921"
             ]
            ],
            "type": "contour"
           }
          ],
          "contourcarpet": [
           {
            "colorbar": {
             "outlinewidth": 0,
             "ticks": ""
            },
            "type": "contourcarpet"
           }
          ],
          "heatmap": [
           {
            "colorbar": {
             "outlinewidth": 0,
             "ticks": ""
            },
            "colorscale": [
             [
              0,
              "#0d0887"
             ],
             [
              0.1111111111111111,
              "#46039f"
             ],
             [
              0.2222222222222222,
              "#7201a8"
             ],
             [
              0.3333333333333333,
              "#9c179e"
             ],
             [
              0.4444444444444444,
              "#bd3786"
             ],
             [
              0.5555555555555556,
              "#d8576b"
             ],
             [
              0.6666666666666666,
              "#ed7953"
             ],
             [
              0.7777777777777778,
              "#fb9f3a"
             ],
             [
              0.8888888888888888,
              "#fdca26"
             ],
             [
              1,
              "#f0f921"
             ]
            ],
            "type": "heatmap"
           }
          ],
          "heatmapgl": [
           {
            "colorbar": {
             "outlinewidth": 0,
             "ticks": ""
            },
            "colorscale": [
             [
              0,
              "#0d0887"
             ],
             [
              0.1111111111111111,
              "#46039f"
             ],
             [
              0.2222222222222222,
              "#7201a8"
             ],
             [
              0.3333333333333333,
              "#9c179e"
             ],
             [
              0.4444444444444444,
              "#bd3786"
             ],
             [
              0.5555555555555556,
              "#d8576b"
             ],
             [
              0.6666666666666666,
              "#ed7953"
             ],
             [
              0.7777777777777778,
              "#fb9f3a"
             ],
             [
              0.8888888888888888,
              "#fdca26"
             ],
             [
              1,
              "#f0f921"
             ]
            ],
            "type": "heatmapgl"
           }
          ],
          "histogram": [
           {
            "marker": {
             "pattern": {
              "fillmode": "overlay",
              "size": 10,
              "solidity": 0.2
             }
            },
            "type": "histogram"
           }
          ],
          "histogram2d": [
           {
            "colorbar": {
             "outlinewidth": 0,
             "ticks": ""
            },
            "colorscale": [
             [
              0,
              "#0d0887"
             ],
             [
              0.1111111111111111,
              "#46039f"
             ],
             [
              0.2222222222222222,
              "#7201a8"
             ],
             [
              0.3333333333333333,
              "#9c179e"
             ],
             [
              0.4444444444444444,
              "#bd3786"
             ],
             [
              0.5555555555555556,
              "#d8576b"
             ],
             [
              0.6666666666666666,
              "#ed7953"
             ],
             [
              0.7777777777777778,
              "#fb9f3a"
             ],
             [
              0.8888888888888888,
              "#fdca26"
             ],
             [
              1,
              "#f0f921"
             ]
            ],
            "type": "histogram2d"
           }
          ],
          "histogram2dcontour": [
           {
            "colorbar": {
             "outlinewidth": 0,
             "ticks": ""
            },
            "colorscale": [
             [
              0,
              "#0d0887"
             ],
             [
              0.1111111111111111,
              "#46039f"
             ],
             [
              0.2222222222222222,
              "#7201a8"
             ],
             [
              0.3333333333333333,
              "#9c179e"
             ],
             [
              0.4444444444444444,
              "#bd3786"
             ],
             [
              0.5555555555555556,
              "#d8576b"
             ],
             [
              0.6666666666666666,
              "#ed7953"
             ],
             [
              0.7777777777777778,
              "#fb9f3a"
             ],
             [
              0.8888888888888888,
              "#fdca26"
             ],
             [
              1,
              "#f0f921"
             ]
            ],
            "type": "histogram2dcontour"
           }
          ],
          "mesh3d": [
           {
            "colorbar": {
             "outlinewidth": 0,
             "ticks": ""
            },
            "type": "mesh3d"
           }
          ],
          "parcoords": [
           {
            "line": {
             "colorbar": {
              "outlinewidth": 0,
              "ticks": ""
             }
            },
            "type": "parcoords"
           }
          ],
          "pie": [
           {
            "automargin": true,
            "type": "pie"
           }
          ],
          "scatter": [
           {
            "fillpattern": {
             "fillmode": "overlay",
             "size": 10,
             "solidity": 0.2
            },
            "type": "scatter"
           }
          ],
          "scatter3d": [
           {
            "line": {
             "colorbar": {
              "outlinewidth": 0,
              "ticks": ""
             }
            },
            "marker": {
             "colorbar": {
              "outlinewidth": 0,
              "ticks": ""
             }
            },
            "type": "scatter3d"
           }
          ],
          "scattercarpet": [
           {
            "marker": {
             "colorbar": {
              "outlinewidth": 0,
              "ticks": ""
             }
            },
            "type": "scattercarpet"
           }
          ],
          "scattergeo": [
           {
            "marker": {
             "colorbar": {
              "outlinewidth": 0,
              "ticks": ""
             }
            },
            "type": "scattergeo"
           }
          ],
          "scattergl": [
           {
            "marker": {
             "colorbar": {
              "outlinewidth": 0,
              "ticks": ""
             }
            },
            "type": "scattergl"
           }
          ],
          "scattermapbox": [
           {
            "marker": {
             "colorbar": {
              "outlinewidth": 0,
              "ticks": ""
             }
            },
            "type": "scattermapbox"
           }
          ],
          "scatterpolar": [
           {
            "marker": {
             "colorbar": {
              "outlinewidth": 0,
              "ticks": ""
             }
            },
            "type": "scatterpolar"
           }
          ],
          "scatterpolargl": [
           {
            "marker": {
             "colorbar": {
              "outlinewidth": 0,
              "ticks": ""
             }
            },
            "type": "scatterpolargl"
           }
          ],
          "scatterternary": [
           {
            "marker": {
             "colorbar": {
              "outlinewidth": 0,
              "ticks": ""
             }
            },
            "type": "scatterternary"
           }
          ],
          "surface": [
           {
            "colorbar": {
             "outlinewidth": 0,
             "ticks": ""
            },
            "colorscale": [
             [
              0,
              "#0d0887"
             ],
             [
              0.1111111111111111,
              "#46039f"
             ],
             [
              0.2222222222222222,
              "#7201a8"
             ],
             [
              0.3333333333333333,
              "#9c179e"
             ],
             [
              0.4444444444444444,
              "#bd3786"
             ],
             [
              0.5555555555555556,
              "#d8576b"
             ],
             [
              0.6666666666666666,
              "#ed7953"
             ],
             [
              0.7777777777777778,
              "#fb9f3a"
             ],
             [
              0.8888888888888888,
              "#fdca26"
             ],
             [
              1,
              "#f0f921"
             ]
            ],
            "type": "surface"
           }
          ],
          "table": [
           {
            "cells": {
             "fill": {
              "color": "#EBF0F8"
             },
             "line": {
              "color": "white"
             }
            },
            "header": {
             "fill": {
              "color": "#C8D4E3"
             },
             "line": {
              "color": "white"
             }
            },
            "type": "table"
           }
          ]
         },
         "layout": {
          "annotationdefaults": {
           "arrowcolor": "#2a3f5f",
           "arrowhead": 0,
           "arrowwidth": 1
          },
          "autotypenumbers": "strict",
          "coloraxis": {
           "colorbar": {
            "outlinewidth": 0,
            "ticks": ""
           }
          },
          "colorscale": {
           "diverging": [
            [
             0,
             "#8e0152"
            ],
            [
             0.1,
             "#c51b7d"
            ],
            [
             0.2,
             "#de77ae"
            ],
            [
             0.3,
             "#f1b6da"
            ],
            [
             0.4,
             "#fde0ef"
            ],
            [
             0.5,
             "#f7f7f7"
            ],
            [
             0.6,
             "#e6f5d0"
            ],
            [
             0.7,
             "#b8e186"
            ],
            [
             0.8,
             "#7fbc41"
            ],
            [
             0.9,
             "#4d9221"
            ],
            [
             1,
             "#276419"
            ]
           ],
           "sequential": [
            [
             0,
             "#0d0887"
            ],
            [
             0.1111111111111111,
             "#46039f"
            ],
            [
             0.2222222222222222,
             "#7201a8"
            ],
            [
             0.3333333333333333,
             "#9c179e"
            ],
            [
             0.4444444444444444,
             "#bd3786"
            ],
            [
             0.5555555555555556,
             "#d8576b"
            ],
            [
             0.6666666666666666,
             "#ed7953"
            ],
            [
             0.7777777777777778,
             "#fb9f3a"
            ],
            [
             0.8888888888888888,
             "#fdca26"
            ],
            [
             1,
             "#f0f921"
            ]
           ],
           "sequentialminus": [
            [
             0,
             "#0d0887"
            ],
            [
             0.1111111111111111,
             "#46039f"
            ],
            [
             0.2222222222222222,
             "#7201a8"
            ],
            [
             0.3333333333333333,
             "#9c179e"
            ],
            [
             0.4444444444444444,
             "#bd3786"
            ],
            [
             0.5555555555555556,
             "#d8576b"
            ],
            [
             0.6666666666666666,
             "#ed7953"
            ],
            [
             0.7777777777777778,
             "#fb9f3a"
            ],
            [
             0.8888888888888888,
             "#fdca26"
            ],
            [
             1,
             "#f0f921"
            ]
           ]
          },
          "colorway": [
           "#636efa",
           "#EF553B",
           "#00cc96",
           "#ab63fa",
           "#FFA15A",
           "#19d3f3",
           "#FF6692",
           "#B6E880",
           "#FF97FF",
           "#FECB52"
          ],
          "font": {
           "color": "#2a3f5f"
          },
          "geo": {
           "bgcolor": "white",
           "lakecolor": "white",
           "landcolor": "#E5ECF6",
           "showlakes": true,
           "showland": true,
           "subunitcolor": "white"
          },
          "hoverlabel": {
           "align": "left"
          },
          "hovermode": "closest",
          "mapbox": {
           "style": "light"
          },
          "paper_bgcolor": "white",
          "plot_bgcolor": "#E5ECF6",
          "polar": {
           "angularaxis": {
            "gridcolor": "white",
            "linecolor": "white",
            "ticks": ""
           },
           "bgcolor": "#E5ECF6",
           "radialaxis": {
            "gridcolor": "white",
            "linecolor": "white",
            "ticks": ""
           }
          },
          "scene": {
           "xaxis": {
            "backgroundcolor": "#E5ECF6",
            "gridcolor": "white",
            "gridwidth": 2,
            "linecolor": "white",
            "showbackground": true,
            "ticks": "",
            "zerolinecolor": "white"
           },
           "yaxis": {
            "backgroundcolor": "#E5ECF6",
            "gridcolor": "white",
            "gridwidth": 2,
            "linecolor": "white",
            "showbackground": true,
            "ticks": "",
            "zerolinecolor": "white"
           },
           "zaxis": {
            "backgroundcolor": "#E5ECF6",
            "gridcolor": "white",
            "gridwidth": 2,
            "linecolor": "white",
            "showbackground": true,
            "ticks": "",
            "zerolinecolor": "white"
           }
          },
          "shapedefaults": {
           "line": {
            "color": "#2a3f5f"
           }
          },
          "ternary": {
           "aaxis": {
            "gridcolor": "white",
            "linecolor": "white",
            "ticks": ""
           },
           "baxis": {
            "gridcolor": "white",
            "linecolor": "white",
            "ticks": ""
           },
           "bgcolor": "#E5ECF6",
           "caxis": {
            "gridcolor": "white",
            "linecolor": "white",
            "ticks": ""
           }
          },
          "title": {
           "x": 0.05
          },
          "xaxis": {
           "automargin": true,
           "gridcolor": "white",
           "linecolor": "white",
           "ticks": "",
           "title": {
            "standoff": 15
           },
           "zerolinecolor": "white",
           "zerolinewidth": 2
          },
          "yaxis": {
           "automargin": true,
           "gridcolor": "white",
           "linecolor": "white",
           "ticks": "",
           "title": {
            "standoff": 15
           },
           "zerolinecolor": "white",
           "zerolinewidth": 2
          }
         }
        },
        "xaxis": {
         "anchor": "y",
         "domain": [
          0,
          1
         ],
         "title": {
          "text": "Type"
         }
        },
        "yaxis": {
         "anchor": "x",
         "domain": [
          0,
          1
         ],
         "title": {
          "text": "Count"
         }
        }
       }
      }
     },
     "metadata": {},
     "output_type": "display_data"
    }
   ],
   "source": [
    "fig = px.bar(x=rst.index, y=rst.values, labels={'x':'Type','y':'Count'})\n",
    "fig.show()"
   ]
  },
  {
   "cell_type": "markdown",
   "metadata": {},
   "source": [
    "## Q6. Spatial Map (20 Points)\n",
    "The data for Q6 is **colleges.csv file**.\n",
    "- 6.1 Create a spatial map to show the college on maps\n",
    "  - Add a popup windown to show the information (College name from [COLLEGE] column and City from [CITY] column) for each college. "
   ]
  },
  {
   "cell_type": "code",
   "execution_count": 20,
   "metadata": {},
   "outputs": [],
   "source": [
    "import plotly.graph_objects as go"
   ]
  },
  {
   "cell_type": "code",
   "execution_count": 18,
   "metadata": {},
   "outputs": [],
   "source": [
    "colleges['text'] = 'College: ' + colleges['COLLEGE'] + 'City: ' + colleges['CITY']\n"
   ]
  },
  {
   "cell_type": "code",
   "execution_count": 21,
   "metadata": {},
   "outputs": [
    {
     "data": {
      "application/vnd.plotly.v1+json": {
       "config": {
        "plotlyServerURL": "https://plot.ly"
       },
       "data": [
        {
         "lat": [
          41.689544700000006,
          41.6922722,
          41.698871600000004,
          41.718437200000004,
          41.7213631,
          41.7407455,
          41.745266,
          41.7919159,
          41.9091492,
          41.8923225,
          41.9019356,
          41.947799700000004,
          41.958461799999995,
          41.9660835,
          41.98750689999999,
          42.010101299999995,
          42.04241939999999,
          42.059024799999996,
          42.055126200000004,
          42.075649299999995,
          42.0856476,
          42.133880600000005,
          42.1126709,
          42.1161041,
          42.1183205,
          42.3179245,
          42.3188477,
          42.325676,
          42.3276482,
          42.3292427,
          42.325779,
          42.3305283,
          42.1324692,
          42.141689299999996,
          42.1463814,
          42.1506615,
          42.043853799999994,
          42.0880089,
          42.095008899999996,
          42.1021729,
          42.102416999999996,
          42.1088028,
          41.296020500000004,
          41.5951042,
          41.629921,
          41.6352501,
          41.6509361,
          41.6613655,
          41.6719131,
          41.6803703,
          42.2566261,
          42.260845200000006,
          42.2636375,
          42.2639656,
          42.2643585,
          42.2686691,
          42.2690315,
          42.271190600000004,
          42.2737999,
          42.2776108,
          42.284774799999994,
          42.286128999999995,
          42.292159999999996,
          42.293499,
          42.2934456,
          42.2941742,
          42.29504779999999,
          42.2980042,
          42.2979469,
          42.3063049,
          42.3119926,
          42.3137665,
          42.314308200000006,
          42.317031899999996,
          42.354599,
          42.3552856,
          42.3578148,
          42.3597069,
          42.362838700000005,
          42.3657646,
          42.3663902,
          42.3670883,
          42.3678322,
          42.3813972,
          42.703144099999996,
          42.3700027,
          42.3709869,
          42.369434399999996,
          42.3749466,
          42.162883799999996,
          42.1661377,
          42.1809959,
          42.1811676,
          42.182132700000004,
          42.1836357,
          42.1858826,
          42.198440600000005,
          42.1949043,
          42.1020355,
          42.3888016,
          42.207378399999996,
          42.2060432,
          42.2087402,
          42.2375412,
          42.2408333,
          42.2420998,
          42.246212,
          42.2476387,
          42.3350143,
          42.3353043,
          42.335567499999996,
          42.3363152,
          42.3366814,
          42.3367882,
          42.336864500000004,
          42.338573499999995,
          42.339176200000004,
          42.339611100000006,
          42.3393364,
          42.339355499999996,
          42.3399506,
          42.3409576,
          42.3411331,
          42.2485619,
          42.251300799999996,
          42.2524681,
          42.2534294,
          42.25381470000001,
          42.427448299999995,
          42.4289665,
          42.46221920000001,
          42.4607162,
          42.4493217,
          42.4597511,
          42.478782700000004,
          42.4790764,
          42.4810486,
          42.341259,
          42.341812100000006,
          42.3430405,
          42.343956,
          42.3443336,
          42.345985399999996,
          42.346195200000004,
          42.3465652,
          42.348480200000004,
          42.3495941,
          42.3501549,
          42.351249700000004,
          42.2993774,
          42.3508301,
          42.351848600000004,
          42.3519554,
          42.352897600000006,
          42.587738,
          42.590232799999995,
          42.5900688,
          42.5904922,
          42.5932999,
          42.597477000000005,
          42.599556,
          42.612457299999996,
          42.6436119,
          42.6445999,
          42.6539726,
          42.6547699,
          42.6566048,
          42.6687546,
          42.6642876,
          42.6820984,
          42.707592,
          42.700405100000005,
          42.691604600000005,
          42.842651399999994,
          42.7073021,
          42.7148972,
          42.71276470000001,
          42.7311211,
          42.7650909,
          42.7964706,
          42.375785799999996,
          42.37583920000001,
          42.3754768,
          42.3785286,
          42.3790665,
          42.380283399999996,
          42.3802795,
          42.3815384,
          42.547660799999996,
          42.55019,
          42.55336,
          42.5606804,
          42.3859673,
          42.3910599,
          42.4085083,
          42.406768799999995,
          42.41478729999999,
          42.4184227,
          42.426223799999995,
          42.4821777,
          42.4838181,
          42.4932709,
          42.495700799999995,
          42.498455,
          42.503513299999995,
          42.5036125,
          42.313804600000005,
          42.5245972,
          41.59601970000001,
          41.4183655,
          41.909935,
          41.9895172,
          42.3929672,
          42.276950799999995,
          42.4748878,
          42.0732193
         ],
         "lon": [
          -70.141716,
          -70.3367233,
          -71.1577301,
          -71.1550446,
          -71.1199493,
          -70.621788,
          -70.5787277,
          -71.32511140000001,
          -71.0954285,
          -70.9123001,
          -71.0919647,
          -71.27368929999999,
          -70.7044373,
          -71.18424990000001,
          -70.9745026,
          -71.0818634,
          -71.92956540000002,
          -71.0806122,
          -72.58337399999999,
          -70.99029540000001,
          -71.3978806,
          -71.95695500000001,
          -72.5585938,
          -72.520668,
          -72.55432890000002,
          -71.79978940000001,
          -72.63537600000001,
          -71.18920899999999,
          -71.0827332,
          -71.0955276,
          -72.53147129999999,
          -71.9189301,
          -72.7955475,
          -72.60034940000001,
          -72.6302948,
          -72.4298935,
          -71.01177220000001,
          -70.992836,
          -71.42149350000001,
          -72.5566483,
          -72.5919189,
          -72.57848359999998,
          -70.0404892,
          -70.91027829999999,
          -71.0055542,
          -70.92562099999999,
          -70.28939820000001,
          -70.9880905,
          -70.9251785,
          -71.12739559999999,
          -72.5756912,
          -71.0582962,
          -71.807663,
          -71.80062099999999,
          -71.8004761,
          -71.8422089,
          -71.7782211,
          -71.0110092,
          -71.809639,
          -71.7617645,
          -71.8081894,
          -71.63573459999999,
          -71.4140625,
          -71.30580140000001,
          -71.2639542,
          -71.8289795,
          -71.2032928,
          -71.43608090000001,
          -71.26619720000001,
          -71.0565567,
          -71.263649,
          -71.79492950000001,
          -71.0397415,
          -71.1292496,
          -71.0627136,
          -71.0739822,
          -71.06081390000001,
          -71.0919571,
          -71.0545502,
          -71.2600632,
          -71.12277979999999,
          -71.23099520000001,
          -71.56680300000001,
          -71.0729599,
          -71.1484756,
          -71.07070159999999,
          -71.1220245,
          -72.5187988,
          -71.0539169,
          -71.6164398,
          -71.07301329999999,
          -71.1917343,
          -71.1930618,
          -71.1041412,
          -71.1006699,
          -72.5617599,
          -71.1543198,
          -72.65181729999999,
          -72.556694,
          -71.22016909999999,
          -71.0239792,
          -72.61767579999999,
          -73.38024899999999,
          -71.8082657,
          -71.11473079999999,
          -71.4360352,
          -71.67701720000001,
          -71.0017548,
          -71.1687546,
          -71.102951,
          -71.1041107,
          -71.07245640000001,
          -71.10112,
          -71.0987625,
          -71.0952454,
          -71.0965958,
          -71.1330948,
          -71.3109818,
          -71.09985350000001,
          -71.0884171,
          -71.08874509999998,
          -71.08639529999999,
          -71.102417,
          -71.0024338,
          -71.82392879999999,
          -71.00348659999999,
          -71.798912,
          -71.1100616,
          -71.076622,
          -71.06838990000001,
          -71.3870697,
          -70.9441071,
          -73.25647740000001,
          -73.3152084,
          -71.1906738,
          -71.15064240000001,
          -71.1143036,
          -71.10569,
          -71.1939545,
          -71.2416458,
          -71.16259000000001,
          -71.162674,
          -71.07012940000001,
          -71.09000400000001,
          -71.08937840000002,
          -71.08577729999999,
          -71.099678,
          -71.0623703,
          -71.31055450000001,
          -71.76325229999999,
          -71.06639859999999,
          -71.0868073,
          -71.06527709999999,
          -71.06418609999999,
          -71.7692108,
          -71.78843690000001,
          -70.9687119,
          -70.82147979999999,
          -71.9839249,
          -71.2208328,
          -72.63108829999999,
          -70.8450623,
          -71.30815890000001,
          -71.3066025,
          -71.3858414,
          -71.3249435,
          -71.1396484,
          -71.1243362,
          -73.1007233,
          -71.1996231,
          -71.13188170000001,
          -71.1699371,
          -73.10345459999999,
          -70.87376400000001,
          -71.16745,
          -71.1768036,
          -73.20294190000001,
          -71.11642459999999,
          -71.0792847,
          -71.0473709,
          -71.12104029999999,
          -71.11395259999999,
          -71.0694427,
          -71.1234131,
          -71.11883540000001,
          -71.1172943,
          -71.025444,
          -71.128006,
          -71.2180328,
          -70.87612920000001,
          -70.843338,
          -71.8608093,
          -72.5266113,
          -71.0824051,
          -71.1183472,
          -71.0545502,
          -71.12617490000001,
          -70.9073334,
          -71.11109920000001,
          -71.15561679999999,
          -71.125061,
          -71.137146,
          -71.12739559999999,
          -71.1244888,
          -71.0602722,
          -70.89035799999999,
          -72.64877320000001,
          -71.27413179999999,
          -70.9066849,
          -70.5955963,
          -70.7327499,
          -70.9650574,
          -71.0406113,
          -71.051712,
          -71.2164688,
          -71.0447083
         ],
         "mode": "markers",
         "text": [
          "College: Cape Cod Electrical SchoolCity: South Dennis",
          "College: Cape Cod Community CollegeCity: West Barnstable",
          "College: Rob Roy AcademyCity: Fall River",
          "College: Diman Regional Technical Institute Division of Continuing EducationCity: Fall River",
          "College: Bristol Community CollegeCity: Fall River",
          "College: Massachusetts Maritime AcademyCity: Buzzards Bay",
          "College: Upper Cape Cod Regional Vocational Technical School Practical Nursing ProgramCity: Bourne",
          "College: Motoring Technical Training InstituteCity: Seekonk",
          "College: Bristol Community CollegeCity: Taunton",
          "College: Massasoit Community CollegeCity: Middleborough",
          "College: Rob Roy AcademyCity: Taunton",
          "College: Bristol Community CollegeCity: Attleboro",
          "College: Spa Tech InstituteCity: Plymouth",
          "College: Wheaton CollegeCity: Norton",
          "College: Bridgewater State UniversityCity: Bridgewater",
          "College: Southeastern Technical InstituteCity: South Easton",
          "College: Nichols CollegeCity: Dudley",
          "College: Stonehill CollegeCity: Easton",
          "College: Bay Path UniversityCity: Longmeadow",
          "College: Massasoit Community CollegeCity: Brockton",
          "College: Dean CollegeCity: Franklin",
          "College: Bay Path Adult Evening SchoolCity: Charlton",
          "College: American International CollegeCity: Springfield",
          "College: Western New England UniversityCity: Springfield",
          "College: American International CollegeCity: Springfield",
          "College: Porter And Chester InstituteCity: Worcester",
          "College: Smith CollegeCity: Northampton",
          "College: Hebrew CollegeCity: Newton Centre",
          "College: Gordon-Conwell Theological SeminaryCity: Roxbury",
          "College: Roxbury Community CollegeCity: Roxbury Crossing",
          "College: Hampshire CollegeCity: Amherst",
          "College: Anna Maria CollegeCity: Paxton",
          "College: Westfield State UniversityCity: Westfield",
          "College: College of Our Lady of the ElmsCity: Chicopee",
          "College: DiGrigoli School of CosmetologyCity: West Springfield",
          "College: Monarch School of CosmetologyCity: Wilbraham",
          "College: Mafy's Nails AcademyCity: Brockton",
          "College: Signature Healthcare Brockton Hospital School of NursingCity: Brockton",
          "College: Tri County Regional Vocational Technical High School Adult EducationCity: Franklin",
          "College: Springfield CollegeCity: Springfield",
          "College: Cambridge CollegeCity: Springfield",
          "College: Springfield Technical Community CollegeCity: Springfield",
          "College: University of Massachusetts Nantucket Field StationCity: Nantucket",
          "College: University of Massachusetts Dartmouth School for Marine Science and TechnologyCity: New Bedford",
          "College: University of Massachusetts DartmouthCity: North Dartmouth",
          "College: Bristol Community CollegeCity: New Bedford",
          "College: Cape Cod Community CollegeCity: Hyannis",
          "College: University of Massachusetts School of LawCity: North Dartmouth",
          "College: Rob Roy AcademyCity: New Bedford",
          "College: University of Massachusetts Dartmouth Center for Innovation and EntrepreneurshipCity: Fall River",
          "College: Mount Holyoke CollegeCity: South Hadley",
          "College: Laboure College of HealthcareCity: Milton",
          "College: Rob Roy AcademyCity: Worcester",
          "College: New England School of Acupuncture at MCPHSCity: Worcester",
          "College: Massachusetts College of Pharmacy and Health ScienceCity: Worcester",
          "College: Worcester State UniversityCity: Worcester",
          "College: Bancroft School of Massage TherapyCity: Worcester",
          "College: Eastern Nazarene CollegeCity: Quincy",
          "College: Worcester Polytechnic InstituteCity: Worcester",
          "College: University of Massachusetts Chan Medical SchoolCity: Worcester",
          "College: Toni & Guy Hairdressing AcademyCity: Worcester",
          "College: Spa Tech InstituteCity: Westboro",
          "College: Massachusetts Bay Community CollegeCity: Framingham",
          "College: Wellesley CollegeCity: Wellesley",
          "College: Franklin W. Olin College of EngineeringCity: Needham",
          "College: Assumption UniversityCity: Worcester",
          "College: William James CollegeCity: Newton",
          "College: Framingham State UniversityCity: Framingham",
          "College: Babson CollegeCity: Wellesley",
          "College: Jupiter Beauty AcademyCity: Boston",
          "College: Massachusetts Bay Community CollegeCity: Wellesley Hills",
          "College: Quinsigamond Community CollegeCity: Worcester",
          "College: University of Massachusetts BostonCity: Boston",
          "College: Hellenic College-Holy Cross Greek Orthodox School of TheologyCity: Brookline",
          "College: Empire Beauty SchoolCity: Boston",
          "College: Fisher CollegeCity: Boston",
          "College: Suffolk UniversityCity: Boston",
          "College: Massachusetts Institute of TechnologyCity: Cambridge",
          "College: North Bennet Street SchoolCity: Boston",
          "College: Brandeis UniversityCity: Waltham",
          "College: Harvard UniversityCity: Boston",
          "College: NV My Hair AcademyCity: Waltham",
          "College: Assabet After DarkCity: Marlborough",
          "College: Cambridge CollegeCity: Boston",
          "College: Cambridge CollegeCity: Lawrence",
          "College: Hult International Business SchoolCity: Cambridge",
          "College: Harvard UniversityCity: Cambridge",
          "College: Amherst CollegeCity: Amherst",
          "College: MGH Institute of Health ProfessionsCity: Boston",
          "College: Blackstone Valley Vocational Regional School Post-Secondary Nursing ProgramCity: Upton",
          "College: Porter And Chester InstituteCity: Canton",
          "College: FINE Mortuary CollegeCity: Norwood",
          "College: Martin Electrical SchoolCity: Norwood",
          "College: Blue Hills Regional Technical School Practical Nursing ProgramCity: Canton",
          "College: Massasoit Community CollegeCity: Canton",
          "College: Porter And Chester InstituteCity: Chicopee",
          "College: Peterson SchoolCity: Westwood",
          "College: Holyoke Community CollegeCity: Holyoke",
          "College: Springfield College-Regional, Online, and Continuing EducationCity: Springfield",
          "College: Bentley UniversityCity: Waltham",
          "College: Toni & Guy Hairdressing AcademyCity: Braintree",
          "College: Bard College - Holyoke MicrocollegeCity: Holyoke",
          "College: Bard College at Simon's RockCity: Great Barrington",
          "College: College of the Holy CrossCity: Worcester",
          "College: Curry CollegeCity: Milton",
          "College: Massachusetts Bay Community CollegeCity: Ashland",
          "College: Tufts UniversityCity: North Grafton",
          "College: Massachusetts School of BarberingCity: Quincy",
          "College: Boston CollegeCity: Chestnut Hill",
          "College: Harvard UniversityCity: Boston",
          "College: Harvard UniversityCity: Boston",
          "College: Boston University Chobanian & Avedisian School of MedicineCity: Boston",
          "College: Massachusetts College of Pharmacy and Health ScienceCity: Boston",
          "College: Massachusetts College of Art and DesignCity: Boston",
          "College: Wentworth Institute of TechnologyCity: Boston",
          "College: School of the Museum of Fine ArtsCity: Boston",
          "College: Boston Graduate School of Psychoanalysis IncCity: Brookline",
          "College: Pope St John XXIII National SeminaryCity: Weston",
          "College: Simmons UniversityCity: Boston",
          "College: Northeastern University Professional ProgramsCity: Boston",
          "College: Northeastern UniversityCity: Boston",
          "College: The New England Conservatory of MusicCity: Boston",
          "College: Emmanuel CollegeCity: Boston",
          "College: Ali May AcademyCity: Quincy",
          "College: Clark UniversityCity: Worcester",
          "College: Quincy CollegeCity: Quincy",
          "College: JK Nails AcademyCity: Worcester",
          "College: Boston Baptist CollegeCity: Boston",
          "College: Empire Beauty SchoolCity: Malden",
          "College: New England Hair AcademyCity: Malden",
          "College: National Aviation Academy of New EnglandCity: Concord",
          "College: North Shore Community CollegeCity: Lynn",
          "College: Mildred ElleyCity: Pittsfield",
          "College: Berkshire Community CollegeCity: Pittsfield",
          "College: Northeastern UniversityCity: Burlington",
          "College: Peterson SchoolCity: Woburn",
          "College: Gould Construction InstituteCity: Woburn",
          "College: Simmons UniversityCity: Boston",
          "College: Boston CollegeCity: Newton",
          "College: Lasell UniversityCity: Newton",
          "College: Boston CollegeCity: Brighton",
          "College: Saint John's SeminaryCity: Brighton",
          "College: Benjamin Franklin Cummings Institute of TechnologyCity: Boston",
          "College: The Boston Conservatory at BerkleeCity: Boston",
          "College: Berklee College of MusicCity: Boston",
          "College: Boston Architectural CollegeCity: Boston",
          "College: Boston UniversityCity: Boston",
          "College: Tufts UniversityCity: Boston",
          "College: Regis CollegeCity: Weston",
          "College: Peterson SchoolCity: Worcester",
          "College: New England Law BostonCity: Boston",
          "College: New England College of OptometryCity: Boston",
          "College: Emerson CollegeCity: Boston",
          "College: Urban College of BostonCity: Boston",
          "College: Alexander AcademyCity: Lunenburg",
          "College: Fitchburg State UniversityCity: Fitchburg",
          "College: North Shore Community CollegeCity: Danvers",
          "College: Gordon CollegeCity: Wenham",
          "College: Mount Wachusett Community CollegeCity: Gardner",
          "College: Electrology Institute of New England, IncCity: Tewksbury",
          "College: Greenfield Community CollegeCity: Greenfield",
          "College: Gordon-Conwell Theological SeminaryCity: South Hamilton",
          "College: Lowell Academy Hairstyling InstituteCity: Lowell",
          "College: Middlesex Community CollegeCity: Lowell",
          "College: Greater Lowell Technical School Adult EducationCity: Tyngsboro",
          "College: University of Massachusetts LowellCity: Lowell",
          "College: David Nicholas InternationalCity: Andover",
          "College: Merrimack CollegeCity: North Andover",
          "College: Charles H. McCann Technical School Adult Evening ClassesCity: North Adams",
          "College: Massachusetts School of LawCity: Andover",
          "College: Spa Tech InstituteCity: North Andover",
          "College: VIP Beauty AcademyCity: Lawrence",
          "College: Massachusetts College of Liberal ArtsCity: North Adams",
          "College: Northern Essex Community CollegeCity: Salisbury",
          "College: Northern Essex Community CollegeCity: Lawrence",
          "College: Lawrence Training SchoolCity: Lawrence",
          "College: Williams CollegeCity: Williamstown",
          "College: New England Tractor Trailer Training School of MassachusettsCity: North Andover",
          "College: Northpoint Bible CollegeCity: Haverhill",
          "College: Northern Essex Community CollegeCity: Haverhill",
          "College: Harvard UniversityCity: Cambridge",
          "College: Harvard UniversityCity: Cambridge",
          "College: Bunker Hill Community CollegeCity: Boston",
          "College: Longy School of Music of Bard CollegeCity: Cambridge",
          "College: Harvard UniversityCity: Cambridge",
          "College: Lesley UniversityCity: Cambridge",
          "College: East Boston Beauty AcademyCity: Boston",
          "College: Harvard-SmithsonianCity: Cambridge",
          "College: Shawsheen Valley School of Practical NursingCity: Billerica",
          "College: Montserrat College of ArtCity: Beverly",
          "College: Endicott CollegeCity: Beverly",
          "College: Montachusett Regional Vocational Technical School Practical Nursing ProgramCity: Fitchburg",
          "College: University of Massachusetts AmherstCity: Amherst",
          "College: Lincoln Technical InstituteCity: Somerville",
          "College: Tufts UniversityCity: Medford",
          "College: Flavia Leal Beauty SchoolCity: Everett",
          "College: Elizabeth Grady School of Esthetics and Massage TherapyCity: Medford",
          "College: Northeastern UniversityCity: Nahant",
          "College: Lawrence Memorial Hospital/Regis College School of NursingCity: Medford",
          "College: Blessing Channels Nail AcademyCity: Woburn",
          "College: Woburn Electrical SchoolCity: Woburn",
          "College: Catherine Hinds Institute of EstheticsCity: Woburn",
          "College: Millennium Training InstituteCity: Woburn",
          "College: Flavia Leal Beauty SchoolCity: Woburn",
          "College: Hair's HowCity: Wakefield",
          "College: Salem State UniversityCity: Salem",
          "College: Conway School of Landscape DesignCity: Northampton",
          "College: Middlesex Community CollegeCity: Bedford",
          "College: University of Massachusetts Dartmouth School for Marine Science and TechnologyCity: New Bedford",
          "College: Cape Cod Community College Adult and Continuing Education - Martha's VineyardCity: Oak Bluffs",
          "College: Cape Cod Community CollegeCity: Plymouth",
          "College: Cape Cod Community CollegeCity: Bridgewater",
          "College: Bunker Hill Community CollegeCity: Chelsea",
          "College: Millennium Training InstituteCity: Milton",
          "College: Gould Construction InstituteCity: Burlington",
          "College: Porter And Chester InstituteCity: Brockton"
         ],
         "type": "scattergeo"
        }
       ],
       "layout": {
        "geo": {
         "center": {
          "lat": 42.3601,
          "lon": -71.0589
         },
         "projection": {
          "scale": 30
         },
         "scope": "usa"
        },
        "height": 600,
        "template": {
         "data": {
          "bar": [
           {
            "error_x": {
             "color": "#2a3f5f"
            },
            "error_y": {
             "color": "#2a3f5f"
            },
            "marker": {
             "line": {
              "color": "#E5ECF6",
              "width": 0.5
             },
             "pattern": {
              "fillmode": "overlay",
              "size": 10,
              "solidity": 0.2
             }
            },
            "type": "bar"
           }
          ],
          "barpolar": [
           {
            "marker": {
             "line": {
              "color": "#E5ECF6",
              "width": 0.5
             },
             "pattern": {
              "fillmode": "overlay",
              "size": 10,
              "solidity": 0.2
             }
            },
            "type": "barpolar"
           }
          ],
          "carpet": [
           {
            "aaxis": {
             "endlinecolor": "#2a3f5f",
             "gridcolor": "white",
             "linecolor": "white",
             "minorgridcolor": "white",
             "startlinecolor": "#2a3f5f"
            },
            "baxis": {
             "endlinecolor": "#2a3f5f",
             "gridcolor": "white",
             "linecolor": "white",
             "minorgridcolor": "white",
             "startlinecolor": "#2a3f5f"
            },
            "type": "carpet"
           }
          ],
          "choropleth": [
           {
            "colorbar": {
             "outlinewidth": 0,
             "ticks": ""
            },
            "type": "choropleth"
           }
          ],
          "contour": [
           {
            "colorbar": {
             "outlinewidth": 0,
             "ticks": ""
            },
            "colorscale": [
             [
              0,
              "#0d0887"
             ],
             [
              0.1111111111111111,
              "#46039f"
             ],
             [
              0.2222222222222222,
              "#7201a8"
             ],
             [
              0.3333333333333333,
              "#9c179e"
             ],
             [
              0.4444444444444444,
              "#bd3786"
             ],
             [
              0.5555555555555556,
              "#d8576b"
             ],
             [
              0.6666666666666666,
              "#ed7953"
             ],
             [
              0.7777777777777778,
              "#fb9f3a"
             ],
             [
              0.8888888888888888,
              "#fdca26"
             ],
             [
              1,
              "#f0f921"
             ]
            ],
            "type": "contour"
           }
          ],
          "contourcarpet": [
           {
            "colorbar": {
             "outlinewidth": 0,
             "ticks": ""
            },
            "type": "contourcarpet"
           }
          ],
          "heatmap": [
           {
            "colorbar": {
             "outlinewidth": 0,
             "ticks": ""
            },
            "colorscale": [
             [
              0,
              "#0d0887"
             ],
             [
              0.1111111111111111,
              "#46039f"
             ],
             [
              0.2222222222222222,
              "#7201a8"
             ],
             [
              0.3333333333333333,
              "#9c179e"
             ],
             [
              0.4444444444444444,
              "#bd3786"
             ],
             [
              0.5555555555555556,
              "#d8576b"
             ],
             [
              0.6666666666666666,
              "#ed7953"
             ],
             [
              0.7777777777777778,
              "#fb9f3a"
             ],
             [
              0.8888888888888888,
              "#fdca26"
             ],
             [
              1,
              "#f0f921"
             ]
            ],
            "type": "heatmap"
           }
          ],
          "heatmapgl": [
           {
            "colorbar": {
             "outlinewidth": 0,
             "ticks": ""
            },
            "colorscale": [
             [
              0,
              "#0d0887"
             ],
             [
              0.1111111111111111,
              "#46039f"
             ],
             [
              0.2222222222222222,
              "#7201a8"
             ],
             [
              0.3333333333333333,
              "#9c179e"
             ],
             [
              0.4444444444444444,
              "#bd3786"
             ],
             [
              0.5555555555555556,
              "#d8576b"
             ],
             [
              0.6666666666666666,
              "#ed7953"
             ],
             [
              0.7777777777777778,
              "#fb9f3a"
             ],
             [
              0.8888888888888888,
              "#fdca26"
             ],
             [
              1,
              "#f0f921"
             ]
            ],
            "type": "heatmapgl"
           }
          ],
          "histogram": [
           {
            "marker": {
             "pattern": {
              "fillmode": "overlay",
              "size": 10,
              "solidity": 0.2
             }
            },
            "type": "histogram"
           }
          ],
          "histogram2d": [
           {
            "colorbar": {
             "outlinewidth": 0,
             "ticks": ""
            },
            "colorscale": [
             [
              0,
              "#0d0887"
             ],
             [
              0.1111111111111111,
              "#46039f"
             ],
             [
              0.2222222222222222,
              "#7201a8"
             ],
             [
              0.3333333333333333,
              "#9c179e"
             ],
             [
              0.4444444444444444,
              "#bd3786"
             ],
             [
              0.5555555555555556,
              "#d8576b"
             ],
             [
              0.6666666666666666,
              "#ed7953"
             ],
             [
              0.7777777777777778,
              "#fb9f3a"
             ],
             [
              0.8888888888888888,
              "#fdca26"
             ],
             [
              1,
              "#f0f921"
             ]
            ],
            "type": "histogram2d"
           }
          ],
          "histogram2dcontour": [
           {
            "colorbar": {
             "outlinewidth": 0,
             "ticks": ""
            },
            "colorscale": [
             [
              0,
              "#0d0887"
             ],
             [
              0.1111111111111111,
              "#46039f"
             ],
             [
              0.2222222222222222,
              "#7201a8"
             ],
             [
              0.3333333333333333,
              "#9c179e"
             ],
             [
              0.4444444444444444,
              "#bd3786"
             ],
             [
              0.5555555555555556,
              "#d8576b"
             ],
             [
              0.6666666666666666,
              "#ed7953"
             ],
             [
              0.7777777777777778,
              "#fb9f3a"
             ],
             [
              0.8888888888888888,
              "#fdca26"
             ],
             [
              1,
              "#f0f921"
             ]
            ],
            "type": "histogram2dcontour"
           }
          ],
          "mesh3d": [
           {
            "colorbar": {
             "outlinewidth": 0,
             "ticks": ""
            },
            "type": "mesh3d"
           }
          ],
          "parcoords": [
           {
            "line": {
             "colorbar": {
              "outlinewidth": 0,
              "ticks": ""
             }
            },
            "type": "parcoords"
           }
          ],
          "pie": [
           {
            "automargin": true,
            "type": "pie"
           }
          ],
          "scatter": [
           {
            "fillpattern": {
             "fillmode": "overlay",
             "size": 10,
             "solidity": 0.2
            },
            "type": "scatter"
           }
          ],
          "scatter3d": [
           {
            "line": {
             "colorbar": {
              "outlinewidth": 0,
              "ticks": ""
             }
            },
            "marker": {
             "colorbar": {
              "outlinewidth": 0,
              "ticks": ""
             }
            },
            "type": "scatter3d"
           }
          ],
          "scattercarpet": [
           {
            "marker": {
             "colorbar": {
              "outlinewidth": 0,
              "ticks": ""
             }
            },
            "type": "scattercarpet"
           }
          ],
          "scattergeo": [
           {
            "marker": {
             "colorbar": {
              "outlinewidth": 0,
              "ticks": ""
             }
            },
            "type": "scattergeo"
           }
          ],
          "scattergl": [
           {
            "marker": {
             "colorbar": {
              "outlinewidth": 0,
              "ticks": ""
             }
            },
            "type": "scattergl"
           }
          ],
          "scattermapbox": [
           {
            "marker": {
             "colorbar": {
              "outlinewidth": 0,
              "ticks": ""
             }
            },
            "type": "scattermapbox"
           }
          ],
          "scatterpolar": [
           {
            "marker": {
             "colorbar": {
              "outlinewidth": 0,
              "ticks": ""
             }
            },
            "type": "scatterpolar"
           }
          ],
          "scatterpolargl": [
           {
            "marker": {
             "colorbar": {
              "outlinewidth": 0,
              "ticks": ""
             }
            },
            "type": "scatterpolargl"
           }
          ],
          "scatterternary": [
           {
            "marker": {
             "colorbar": {
              "outlinewidth": 0,
              "ticks": ""
             }
            },
            "type": "scatterternary"
           }
          ],
          "surface": [
           {
            "colorbar": {
             "outlinewidth": 0,
             "ticks": ""
            },
            "colorscale": [
             [
              0,
              "#0d0887"
             ],
             [
              0.1111111111111111,
              "#46039f"
             ],
             [
              0.2222222222222222,
              "#7201a8"
             ],
             [
              0.3333333333333333,
              "#9c179e"
             ],
             [
              0.4444444444444444,
              "#bd3786"
             ],
             [
              0.5555555555555556,
              "#d8576b"
             ],
             [
              0.6666666666666666,
              "#ed7953"
             ],
             [
              0.7777777777777778,
              "#fb9f3a"
             ],
             [
              0.8888888888888888,
              "#fdca26"
             ],
             [
              1,
              "#f0f921"
             ]
            ],
            "type": "surface"
           }
          ],
          "table": [
           {
            "cells": {
             "fill": {
              "color": "#EBF0F8"
             },
             "line": {
              "color": "white"
             }
            },
            "header": {
             "fill": {
              "color": "#C8D4E3"
             },
             "line": {
              "color": "white"
             }
            },
            "type": "table"
           }
          ]
         },
         "layout": {
          "annotationdefaults": {
           "arrowcolor": "#2a3f5f",
           "arrowhead": 0,
           "arrowwidth": 1
          },
          "autotypenumbers": "strict",
          "coloraxis": {
           "colorbar": {
            "outlinewidth": 0,
            "ticks": ""
           }
          },
          "colorscale": {
           "diverging": [
            [
             0,
             "#8e0152"
            ],
            [
             0.1,
             "#c51b7d"
            ],
            [
             0.2,
             "#de77ae"
            ],
            [
             0.3,
             "#f1b6da"
            ],
            [
             0.4,
             "#fde0ef"
            ],
            [
             0.5,
             "#f7f7f7"
            ],
            [
             0.6,
             "#e6f5d0"
            ],
            [
             0.7,
             "#b8e186"
            ],
            [
             0.8,
             "#7fbc41"
            ],
            [
             0.9,
             "#4d9221"
            ],
            [
             1,
             "#276419"
            ]
           ],
           "sequential": [
            [
             0,
             "#0d0887"
            ],
            [
             0.1111111111111111,
             "#46039f"
            ],
            [
             0.2222222222222222,
             "#7201a8"
            ],
            [
             0.3333333333333333,
             "#9c179e"
            ],
            [
             0.4444444444444444,
             "#bd3786"
            ],
            [
             0.5555555555555556,
             "#d8576b"
            ],
            [
             0.6666666666666666,
             "#ed7953"
            ],
            [
             0.7777777777777778,
             "#fb9f3a"
            ],
            [
             0.8888888888888888,
             "#fdca26"
            ],
            [
             1,
             "#f0f921"
            ]
           ],
           "sequentialminus": [
            [
             0,
             "#0d0887"
            ],
            [
             0.1111111111111111,
             "#46039f"
            ],
            [
             0.2222222222222222,
             "#7201a8"
            ],
            [
             0.3333333333333333,
             "#9c179e"
            ],
            [
             0.4444444444444444,
             "#bd3786"
            ],
            [
             0.5555555555555556,
             "#d8576b"
            ],
            [
             0.6666666666666666,
             "#ed7953"
            ],
            [
             0.7777777777777778,
             "#fb9f3a"
            ],
            [
             0.8888888888888888,
             "#fdca26"
            ],
            [
             1,
             "#f0f921"
            ]
           ]
          },
          "colorway": [
           "#636efa",
           "#EF553B",
           "#00cc96",
           "#ab63fa",
           "#FFA15A",
           "#19d3f3",
           "#FF6692",
           "#B6E880",
           "#FF97FF",
           "#FECB52"
          ],
          "font": {
           "color": "#2a3f5f"
          },
          "geo": {
           "bgcolor": "white",
           "lakecolor": "white",
           "landcolor": "#E5ECF6",
           "showlakes": true,
           "showland": true,
           "subunitcolor": "white"
          },
          "hoverlabel": {
           "align": "left"
          },
          "hovermode": "closest",
          "mapbox": {
           "style": "light"
          },
          "paper_bgcolor": "white",
          "plot_bgcolor": "#E5ECF6",
          "polar": {
           "angularaxis": {
            "gridcolor": "white",
            "linecolor": "white",
            "ticks": ""
           },
           "bgcolor": "#E5ECF6",
           "radialaxis": {
            "gridcolor": "white",
            "linecolor": "white",
            "ticks": ""
           }
          },
          "scene": {
           "xaxis": {
            "backgroundcolor": "#E5ECF6",
            "gridcolor": "white",
            "gridwidth": 2,
            "linecolor": "white",
            "showbackground": true,
            "ticks": "",
            "zerolinecolor": "white"
           },
           "yaxis": {
            "backgroundcolor": "#E5ECF6",
            "gridcolor": "white",
            "gridwidth": 2,
            "linecolor": "white",
            "showbackground": true,
            "ticks": "",
            "zerolinecolor": "white"
           },
           "zaxis": {
            "backgroundcolor": "#E5ECF6",
            "gridcolor": "white",
            "gridwidth": 2,
            "linecolor": "white",
            "showbackground": true,
            "ticks": "",
            "zerolinecolor": "white"
           }
          },
          "shapedefaults": {
           "line": {
            "color": "#2a3f5f"
           }
          },
          "ternary": {
           "aaxis": {
            "gridcolor": "white",
            "linecolor": "white",
            "ticks": ""
           },
           "baxis": {
            "gridcolor": "white",
            "linecolor": "white",
            "ticks": ""
           },
           "bgcolor": "#E5ECF6",
           "caxis": {
            "gridcolor": "white",
            "linecolor": "white",
            "ticks": ""
           }
          },
          "title": {
           "x": 0.05
          },
          "xaxis": {
           "automargin": true,
           "gridcolor": "white",
           "linecolor": "white",
           "ticks": "",
           "title": {
            "standoff": 15
           },
           "zerolinecolor": "white",
           "zerolinewidth": 2
          },
          "yaxis": {
           "automargin": true,
           "gridcolor": "white",
           "linecolor": "white",
           "ticks": "",
           "title": {
            "standoff": 15
           },
           "zerolinecolor": "white",
           "zerolinewidth": 2
          }
         }
        },
        "title": {
         "text": "Colleges"
        },
        "width": 1000
       }
      }
     },
     "metadata": {},
     "output_type": "display_data"
    }
   ],
   "source": [
    "fig = go.Figure(data=go.Scattergeo(\n",
    "                lon = colleges['lon'],\n",
    "                lat = colleges['lat'],\n",
    "                text = colleges['text'],\n",
    "                mode = 'markers'\n",
    "))\n",
    "\n",
    "fig.update_layout(\n",
    "    title = 'Colleges',\n",
    "    geo = dict(\n",
    "        scope = 'usa',\n",
    "        center = dict(lat = 42.3601, lon = -71.0589),\n",
    "        projection_scale = 30\n",
    "    ),\n",
    "\n",
    "    width = 1000,\n",
    "    height = 600\n",
    "   \n",
    ")\n",
    "\n",
    "fig.show()"
   ]
  }
 ],
 "metadata": {
  "kernelspec": {
   "display_name": "base",
   "language": "python",
   "name": "python3"
  },
  "language_info": {
   "codemirror_mode": {
    "name": "ipython",
    "version": 3
   },
   "file_extension": ".py",
   "mimetype": "text/x-python",
   "name": "python",
   "nbconvert_exporter": "python",
   "pygments_lexer": "ipython3",
   "version": "3.7.6"
  }
 },
 "nbformat": 4,
 "nbformat_minor": 2
}
