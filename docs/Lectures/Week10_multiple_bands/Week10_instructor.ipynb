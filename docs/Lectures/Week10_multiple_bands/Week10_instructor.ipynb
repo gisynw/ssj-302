{
 "cells": [
  {
   "cell_type": "markdown",
   "metadata": {},
   "source": [
    "<center>\n",
    "    <h2 style=\"color:  #008080; font-family: Arial, sans-serif; font-size: 32px; padding: 10px;\">\n",
    "        Rasterio and Geopandas\n",
    "    </h2>\n",
    "</center>"
   ]
  },
  {
   "cell_type": "markdown",
   "metadata": {},
   "source": [
    "## Introduction"
   ]
  },
  {
   "cell_type": "code",
   "execution_count": null,
   "metadata": {
    "vscode": {
     "languageId": "plaintext"
    }
   },
   "outputs": [],
   "source": []
  }
 ],
 "metadata": {
  "language_info": {
   "name": "python"
  }
 },
 "nbformat": 4,
 "nbformat_minor": 2
}
