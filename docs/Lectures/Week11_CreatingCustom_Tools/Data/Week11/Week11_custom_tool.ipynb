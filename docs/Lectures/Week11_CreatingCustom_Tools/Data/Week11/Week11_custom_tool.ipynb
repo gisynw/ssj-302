{
 "cells": [
  {
   "cell_type": "markdown",
   "metadata": {},
   "source": []
  },
  {
   "cell_type": "markdown",
   "metadata": {},
   "source": [
    "## Open the IDLE Environment\n",
    "\n",
    " - Open python command prompt\n",
    "\n",
    " - Open the IDLE development environment for ArcGIS Pro\n",
    "Type `idle`, then click enter\n",
    "\n",
    "- Create a new file to display the script window\n",
    "Select File  > new File"
   ]
  }
 ],
 "metadata": {
  "language_info": {
   "name": "python"
  }
 },
 "nbformat": 4,
 "nbformat_minor": 2
}
