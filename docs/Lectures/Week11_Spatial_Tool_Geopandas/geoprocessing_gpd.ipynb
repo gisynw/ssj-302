{
 "cells": [
  {
   "cell_type": "markdown",
   "metadata": {},
   "source": [
    "<center>\n",
    "    <h2 style=\"color:  #008080; font-family: Arial, sans-serif; font-size: 32px; padding: 10px;\">\n",
    "        Week 11: Geopandas\n",
    "    </h2>\n",
    "</center>"
   ]
  },
  {
   "cell_type": "markdown",
   "metadata": {},
   "source": [
    "## Data Structures in Geopandas"
   ]
  },
  {
   "cell_type": "markdown",
   "metadata": {},
   "source": [
    "Geopandas is a Python library designed to working with geospatial data, especially for vector data, in Python. It extends the data types from pandas (which we covered in Week 4) and allow various of geospatial operations. Basically, it provides a high-level interface for vector data (like points, lines, and polygons). "
   ]
  }
 ],
 "metadata": {
  "language_info": {
   "name": "python"
  }
 },
 "nbformat": 4,
 "nbformat_minor": 2
}
