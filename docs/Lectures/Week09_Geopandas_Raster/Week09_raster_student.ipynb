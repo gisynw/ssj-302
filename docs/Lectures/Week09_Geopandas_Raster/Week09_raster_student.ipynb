{
 "cells": [
  {
   "cell_type": "markdown",
   "metadata": {},
   "source": [
    "<a href=\"https://colab.research.google.com/github/gisynw/ssj-302/blob/main/docs/Lectures/Week09_Geopandas_Raster/Week09_Geopandas_raster.ipynb\" target=\"_blank\">\n",
    "  <img src=\"https://colab.research.google.com/assets/colab-badge.svg\" alt=\"Open in Colab\" style=\"height: 30px;\"/>\n",
    "</a>\n",
    "&nbsp &nbsp\n",
    "<a href=\"./Week09_Geopandas_Raster/Week09_Geopandas_raster.ipynb\" target=\"_blank\"> \n",
    "  <img src=\"https://img.icons8.com/?size=100&id=108635&format=png&color=000000\" alt=\"Download\" style=\"height: 40px;\"/>\n",
    " </a>"
   ]
  },
  {
   "cell_type": "markdown",
   "metadata": {},
   "source": [
    "<center>\n",
    "    <h2 style=\"color:  #008080; font-family: Arial, sans-serif; font-size: 32px; padding: 10px;\">\n",
    "        Rasterio and Geopandas\n",
    "    </h2>\n",
    "</center>"
   ]
  },
  {
   "cell_type": "markdown",
   "metadata": {},
   "source": [
    "### 1. Introduction\n",
    "[Rasterio](https://rasterio.readthedocs.io/en/stable/) is a Python library designed for reading, writing and analyzing geospatial raster data. It leverages the powerful [GDAL](https://gdal.org/en/latest/) (Gspatial Data Abstraction Library) to offer a streamlined interface for working with raster datasets like satellite imagery, digital elevation models (DEMs), and other gridded data. Rasterio makes it easier to manipulate and analyze raster data, particulary when integrated with otehr Python tools like Numpy, pandas, and matplotlib, make it valuable tool for geospatial data processing and analysis. \n",
    "\n",
    "[Geopandas](https://geopandas.org/en/stable/) is an open source project to processing geospatial data in python environment easier and efficient. GeoPandas extend the functionality from pandas to allow spatial operation on geometric types. \n",
    "\n",
    "\n",
    "\n"
   ]
  },
  {
   "cell_type": "markdown",
   "metadata": {},
   "source": [
    "### 2. Installation\n",
    "Creating a clean virtual envionrment is not strictly necessary, but install all packages in the same global environment may cause dependency conflicts. So it's recommend to install the geopandas in a clean virutual environment"
   ]
  },
  {
   "cell_type": "markdown",
   "metadata": {},
   "source": [
    "1. Create a virtual environment with name as 'gpd' and specify python version as 3.9\n",
    "```\n",
    "conda create --name gpd python=3.9\n",
    "```\n",
    "\n",
    "2. Activate virtual environment 'gpd'\n",
    "```\n",
    "activate gpd\n",
    "```\n",
    "\n",
    "4. Install the latest version of geopandas, rasterio and ipykernel\n",
    "```\n",
    "conda install -c conda-forge geopandas rasterio fiona\n",
    "\n",
    "# Windows:\n",
    "codna install ipykernel\n",
    "\n",
    "# Mac:\n",
    "pip install ipykernel\n",
    "```\n"
   ]
  },
  {
   "cell_type": "markdown",
   "metadata": {},
   "source": [
    "### 3. Get to know Geospatial Data"
   ]
  },
  {
   "cell_type": "markdown",
   "metadata": {},
   "source": [
    "- [Great Smoky Mountain Geospatial Dataset](https://www.nps.gov/grsm/learn/nature/datasets.htm)\n",
    "- [30-m Digital Elevation Model](https://irma.nps.gov/DataStore/Collection/Profile/34)\n",
    "- [Mountain Boundary](https://irma.nps.gov/DataStore/Collection/Profile/551)"
   ]
  },
  {
   "cell_type": "markdown",
   "metadata": {},
   "source": [
    "### 4. Importing libraries"
   ]
  },
  {
   "cell_type": "code",
   "execution_count": 27,
   "metadata": {},
   "outputs": [],
   "source": [
    "import geopandas as gpd\n",
    "import rasterio\n",
    "import os\n",
    "import rasterio.plot"
   ]
  },
  {
   "cell_type": "markdown",
   "metadata": {},
   "source": [
    "### 5. Reading Raster Data"
   ]
  },
  {
   "cell_type": "code",
   "execution_count": null,
   "metadata": {},
   "outputs": [],
   "source": [
    "os.getcwd()"
   ]
  },
  {
   "cell_type": "code",
   "execution_count": null,
   "metadata": {},
   "outputs": [],
   "source": [
    "dem_path = os.path.join(os.getcwd(),  \"data\\GSM_tiff.tif\")\n",
    "dem_path"
   ]
  },
  {
   "cell_type": "code",
   "execution_count": null,
   "metadata": {},
   "outputs": [],
   "source": [
    "# Set up the path of your data\n",
    "dem = rasterio.open()\n",
    "print(dem)"
   ]
  },
  {
   "cell_type": "markdown",
   "metadata": {},
   "source": [
    "## 6. Extracting Basic Information about Raster"
   ]
  },
  {
   "cell_type": "markdown",
   "metadata": {},
   "source": [
    "### 6.1 File name"
   ]
  },
  {
   "cell_type": "code",
   "execution_count": null,
   "metadata": {},
   "outputs": [],
   "source": [
    "dem.name"
   ]
  },
  {
   "cell_type": "markdown",
   "metadata": {},
   "source": [
    "### 6.2 File Mode"
   ]
  },
  {
   "cell_type": "markdown",
   "metadata": {},
   "source": [
    "### 6.3 File mode\n",
    "The raster data can be opened in read-only (`r`) or write (`w`) mode. "
   ]
  },
  {
   "cell_type": "code",
   "execution_count": null,
   "metadata": {},
   "outputs": [],
   "source": [
    "# Get file mode of your data\n"
   ]
  },
  {
   "cell_type": "markdown",
   "metadata": {},
   "source": [
    "### 6.4 Metadata\n",
    "The metadata comes from a GeoTIFF file, which is a common format for storing geospatial raster ata, such as DEM. \n",
    "- Nodata: the value used to represent 'No data' or missing data.\n",
    "- Width & Height: The number of column and row in the raster\n",
    "- [Affine transformation](https://en.wikipedia.org/wiki/Affine_transformation) show the information about the pixel\n",
    "    - a,b,c,d,e,f (a and e are pixel width and height, c and f are the coordinates of the upper left corner of thr raster, b and d are rotation)"
   ]
  },
  {
   "cell_type": "code",
   "execution_count": null,
   "metadata": {},
   "outputs": [],
   "source": [
    "# Get meta information\n"
   ]
  },
  {
   "cell_type": "markdown",
   "metadata": {},
   "source": [
    "### 6.3 Spatial Resolution"
   ]
  },
  {
   "cell_type": "code",
   "execution_count": null,
   "metadata": {},
   "outputs": [],
   "source": [
    "dem.res"
   ]
  },
  {
   "cell_type": "markdown",
   "metadata": {},
   "source": [
    "### 6.4 Spatial Dimensions: Width and Height"
   ]
  },
  {
   "cell_type": "code",
   "execution_count": null,
   "metadata": {},
   "outputs": [],
   "source": [
    "# Get width of your data\n"
   ]
  },
  {
   "cell_type": "code",
   "execution_count": null,
   "metadata": {},
   "outputs": [],
   "source": [
    "dem.height"
   ]
  },
  {
   "cell_type": "markdown",
   "metadata": {},
   "source": [
    "### 6.5 Spatial Bounds"
   ]
  },
  {
   "cell_type": "code",
   "execution_count": null,
   "metadata": {},
   "outputs": [],
   "source": [
    "dem.bounds"
   ]
  },
  {
   "cell_type": "markdown",
   "metadata": {},
   "source": [
    "### 6.6 Number of bands"
   ]
  },
  {
   "cell_type": "code",
   "execution_count": null,
   "metadata": {},
   "outputs": [],
   "source": [
    "# get the number of bands"
   ]
  },
  {
   "cell_type": "markdown",
   "metadata": {},
   "source": [
    "## 7.Plotting Raster Data\n",
    "rasterio.plot.show() is a simple way to display a raster image, showing the first band of the raster by default"
   ]
  },
  {
   "cell_type": "code",
   "execution_count": null,
   "metadata": {},
   "outputs": [],
   "source": [
    "# Plot dem data\n"
   ]
  },
  {
   "cell_type": "markdown",
   "metadata": {},
   "source": [
    "### 7.1 Customizing Plots\n",
    "You can further enhance your plots with color maps and titles. \n",
    "\n",
    "The cmap parameter in the function allows you to specify a color map to apply to the image, which controls how different values are represented in color"
   ]
  },
  {
   "cell_type": "code",
   "execution_count": 30,
   "metadata": {},
   "outputs": [],
   "source": [
    "import matplotlib.pyplot as plt"
   ]
  },
  {
   "cell_type": "code",
   "execution_count": null,
   "metadata": {},
   "outputs": [],
   "source": [
    "# set up cmap as \"terrain\"\n",
    "fig, ax = plt.subplots(figsize=(8, 8))\n",
    "rasterio.plot.show(dem, cmap=, ax=ax, title=\"Digital Elevation Model (DEM) Great Smoky Mountain\")\n",
    "plt.show()"
   ]
  },
  {
   "cell_type": "markdown",
   "metadata": {},
   "source": [
    "### 7.2 Overlay vector on Raster\n",
    "In geographic data visualization, overlaying vector data (such as polygons) on raster data is a common technique to provide spatial context and enhance interpretation. For instance, to highlight the boundary of the Great Smoky Mountains, you can overlay a polygon vector on a raster DEM. The vector layer defines distinct boundaries or features, while the raster layer provides continuous data (elevation, temperature, etc.). This combination allows users to see how geographic features relate to underlying spatial patterns."
   ]
  },
  {
   "cell_type": "code",
   "execution_count": 37,
   "metadata": {},
   "outputs": [],
   "source": [
    "vector_path = os.path.join(os.getcwd(),  \"data\\GSM_boundary\\GSM_boundary.shp\")\n",
    "gdf = gpd.read_file(vector_path)"
   ]
  },
  {
   "cell_type": "code",
   "execution_count": null,
   "metadata": {},
   "outputs": [],
   "source": [
    "# plot shapefile through plot function\n",
    "fig, ax = plt.subplots(figsize=(8, 8))\n",
    "rasterio.plot.show(dem, cmap=\"terrain\", ax=ax, title=\"Digital Elevation Model (DEM) & Boundary\")\n"
   ]
  },
  {
   "cell_type": "markdown",
   "metadata": {},
   "source": [
    "## 8. Masking a raster using a shapefile\n",
    "Masking a raster with a shapefile is a process that extracts the raster data within a specified geographic boundary defined by the shapefile. This is useful for focusing on a particular area of interest, such as limiting a DEM to the boundary of the Great Smoky Mountains. The shapefile (a vector format) acts as a \"cookie-cutter\" that trims the raster, retaining only the values inside the shapefile's polygons and setting areas outside the boundary to \"no data.\" "
   ]
  },
  {
   "cell_type": "code",
   "execution_count": 41,
   "metadata": {},
   "outputs": [],
   "source": [
    "import fiona\n",
    "import rasterio.mask"
   ]
  },
  {
   "cell_type": "markdown",
   "metadata": {},
   "source": [
    "### 8.1 Read shapefile"
   ]
  },
  {
   "cell_type": "code",
   "execution_count": 43,
   "metadata": {},
   "outputs": [],
   "source": [
    "# set up the mode as \"r\" \n",
    "\n",
    "\n",
    "with fiona.open(vector_path, \"r\") as shapefile:\n",
    "    # loop through the geometry in the shapefile"
   ]
  },
  {
   "cell_type": "code",
   "execution_count": null,
   "metadata": {},
   "outputs": [],
   "source": [
    "shapes"
   ]
  },
  {
   "cell_type": "markdown",
   "metadata": {},
   "source": [
    "### 8.2 Clip raster"
   ]
  },
  {
   "cell_type": "code",
   "execution_count": 45,
   "metadata": {},
   "outputs": [],
   "source": [
    "# check the output from the rasterio.mask.mask\n",
    "# set up the raster and polygon\n",
    "out_image, out_transform = rasterio.mask.mask(, , crop=True)"
   ]
  },
  {
   "cell_type": "markdown",
   "metadata": {},
   "source": [
    "### 8.3 Update information about clipped raster"
   ]
  },
  {
   "cell_type": "code",
   "execution_count": 46,
   "metadata": {},
   "outputs": [],
   "source": [
    "out_meta = dem.meta"
   ]
  },
  {
   "cell_type": "code",
   "execution_count": null,
   "metadata": {},
   "outputs": [],
   "source": [
    "out_image.shape"
   ]
  },
  {
   "cell_type": "code",
   "execution_count": null,
   "metadata": {},
   "outputs": [],
   "source": [
    "# update the meta information about raster\n",
    "\n",
    "out_meta.update(\n",
    "    {\n",
    "        \"driver\": \"GTiff\",\n",
    "        \"height\": ,\n",
    "        \"width\": ,\n",
    "        \"transform\": out_transform,\n",
    "    }\n",
    ")"
   ]
  },
  {
   "cell_type": "markdown",
   "metadata": {},
   "source": [
    "### 8.4 Writing a masked or modified raster image to a new file called \"dem_clip.tif\""
   ]
  },
  {
   "cell_type": "code",
   "execution_count": 47,
   "metadata": {},
   "outputs": [],
   "source": [
    "# set up mode as \"w\"\n",
    "\n",
    "with rasterio.open(\"dem_clip.tif\", , **out_meta) as dst:\n",
    "    dst.write(out_image)"
   ]
  },
  {
   "cell_type": "code",
   "execution_count": null,
   "metadata": {},
   "outputs": [],
   "source": [
    "clip_dem_path = os.path.join(os.getcwd(), 'dem_clip.tif')\n",
    "clip_dem = rasterio.open(clip_dem_path)\n",
    "\n",
    "fig, ax = plt.subplots(figsize=(8, 8))\n",
    "rasterio.plot.show(clip_dem, cmap=\"terrain\", ax=ax, title=\"Digital Elevation Model (DEM) Great Smoky Mountain\")\n",
    "plt.show()\n"
   ]
  }
 ],
 "metadata": {
  "kernelspec": {
   "display_name": "gpd",
   "language": "python",
   "name": "python3"
  },
  "language_info": {
   "codemirror_mode": {
    "name": "ipython",
    "version": 3
   },
   "file_extension": ".py",
   "mimetype": "text/x-python",
   "name": "python",
   "nbconvert_exporter": "python",
   "pygments_lexer": "ipython3",
   "version": "3.9.20"
  }
 },
 "nbformat": 4,
 "nbformat_minor": 2
}
